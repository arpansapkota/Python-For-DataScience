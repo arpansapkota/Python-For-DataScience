{
  "nbformat": 4,
  "nbformat_minor": 0,
  "metadata": {
    "kernelspec": {
      "display_name": "Python",
      "language": "python",
      "name": "conda-env-python-py"
    },
    "language_info": {
      "codemirror_mode": {
        "name": "ipython",
        "version": 3
      },
      "file_extension": ".py",
      "mimetype": "text/x-python",
      "name": "python",
      "nbconvert_exporter": "python",
      "pygments_lexer": "ipython3",
      "version": "3.6.10"
    },
    "colab": {
      "provenance": []
    }
  },
  "cells": [
    {
      "cell_type": "markdown",
      "metadata": {
        "id": "SKl4Dii8UWd8"
      },
      "source": [
        "<h1>Reading Files Python</h1>"
      ]
    },
    {
      "cell_type": "markdown",
      "metadata": {
        "id": "G5Lb0SSEUWd8"
      },
      "source": [
        "<p><strong>Welcome!</strong> This notebook will teach you about reading the text file in the Python Programming Language.</p>"
      ]
    },
    {
      "cell_type": "markdown",
      "metadata": {
        "id": "hMu4CH6xUWd9"
      },
      "source": [
        "<h2 id=\"download\">Download Data</h2>"
      ]
    },
    {
      "cell_type": "code",
      "metadata": {
        "id": "Fo7eD4Zb2yE2"
      },
      "source": [],
      "execution_count": null,
      "outputs": []
    },
    {
      "cell_type": "code",
      "metadata": {
        "id": "uxY-qng2UWd-",
        "colab": {
          "base_uri": "https://localhost:8080/",
          "height": 228
        },
        "outputId": "52087270-8b18-4715-9964-97c47e1c239d"
      },
      "source": [
        "# Download Example file\n",
        "\n",
        "!wget -O Example1.txt https://s3-api.us-geo.objectstorage.softlayer.net/cf-courses-data/CognitiveClass/PY0101EN/labs/example1.txt"
      ],
      "execution_count": null,
      "outputs": [
        {
          "output_type": "stream",
          "text": [
            "--2020-08-06 03:42:22--  https://s3-api.us-geo.objectstorage.softlayer.net/cf-courses-data/CognitiveClass/PY0101EN/labs/example1.txt\n",
            "Resolving s3-api.us-geo.objectstorage.softlayer.net (s3-api.us-geo.objectstorage.softlayer.net)... 67.228.254.196\n",
            "Connecting to s3-api.us-geo.objectstorage.softlayer.net (s3-api.us-geo.objectstorage.softlayer.net)|67.228.254.196|:443... connected.\n",
            "HTTP request sent, awaiting response... 200 OK\n",
            "Length: 45 [text/plain]\n",
            "Saving to: ‘Example1.txt’\n",
            "\n",
            "\rExample1.txt          0%[                    ]       0  --.-KB/s               \rExample1.txt        100%[===================>]      45  --.-KB/s    in 0s      \n",
            "\n",
            "2020-08-06 03:42:22 (7.92 MB/s) - ‘Example1.txt’ saved [45/45]\n",
            "\n"
          ],
          "name": "stdout"
        }
      ]
    },
    {
      "cell_type": "markdown",
      "metadata": {
        "id": "wY0fuYGxUWeB"
      },
      "source": [
        "<hr>"
      ]
    },
    {
      "cell_type": "markdown",
      "metadata": {
        "id": "0_JEOIyUUWeB"
      },
      "source": [
        "<h2 id=\"read\">Reading Text Files</h2>"
      ]
    },
    {
      "cell_type": "markdown",
      "metadata": {
        "id": "L9ZOi6TJUWeC"
      },
      "source": [
        "One way to read or write a file in Python is to use the built-in <code>open</code> function. The <code>open</code> function provides a <b>File object</b> that contains the methods and attributes you need in order to read, save, and manipulate the file. In this notebook, we will only cover <b>.txt</b> files. The first parameter you need is the file path and the file name. An example is shown as follow:"
      ]
    },
    {
      "cell_type": "markdown",
      "metadata": {
        "id": "CNxHvLAyUWeC"
      },
      "source": [
        "<img src=\"https://s3-api.us-geo.objectstorage.softlayer.net/cf-courses-data/CognitiveClass/PY0101EN/Chapter%204/Images/ReadOpen.png\" width=\"500\" />"
      ]
    },
    {
      "cell_type": "markdown",
      "metadata": {
        "id": "onJvyhVUUWeC"
      },
      "source": [
        " The mode argument is optional and the default value is <b>r</b>. In this notebook we only cover two modes: \n",
        "<ul>\n",
        "    <li><b>r</b> Read mode for reading files </li>\n",
        "    <li><b>w</b> Write mode for writing files</li>\n",
        "</ul>"
      ]
    },
    {
      "cell_type": "markdown",
      "metadata": {
        "id": "lswhlKLdUWeD"
      },
      "source": [
        "For the next example, we will use the text file <b>Example1.txt</b>. The file is shown as follow:"
      ]
    },
    {
      "cell_type": "markdown",
      "metadata": {
        "id": "Z2euy7F-UWeD"
      },
      "source": [
        "<img src=\"https://s3-api.us-geo.objectstorage.softlayer.net/cf-courses-data/CognitiveClass/PY0101EN/Chapter%204/Images/ReadFile.png\" width=\"200\" />"
      ]
    },
    {
      "cell_type": "markdown",
      "metadata": {
        "id": "rASQVN3IUWeE"
      },
      "source": [
        " We read the file: "
      ]
    },
    {
      "cell_type": "code",
      "metadata": {
        "id": "CuVSTiD5UWeE",
        "colab": {
          "base_uri": "https://localhost:8080/",
          "height": 35
        },
        "outputId": "31948f33-55ee-4603-8d3a-10314058903c"
      },
      "source": [
        "# Read the Example1.txt\n",
        "\n",
        "example1 = \"Example1.txt\"\n",
        "file1 = open(example1, \"r\")\n",
        "\n",
        "type(file1)"
      ],
      "execution_count": null,
      "outputs": [
        {
          "output_type": "execute_result",
          "data": {
            "text/plain": [
              "_io.TextIOWrapper"
            ]
          },
          "metadata": {
            "tags": []
          },
          "execution_count": 2
        }
      ]
    },
    {
      "cell_type": "markdown",
      "metadata": {
        "id": "aJQLTn1iUWeH"
      },
      "source": [
        " We can view the attributes of the file."
      ]
    },
    {
      "cell_type": "markdown",
      "metadata": {
        "id": "JA6Fae4JUWeH"
      },
      "source": [
        "The name of the file:"
      ]
    },
    {
      "cell_type": "code",
      "metadata": {
        "id": "mZeW_nVrUWeH",
        "colab": {
          "base_uri": "https://localhost:8080/",
          "height": 35
        },
        "outputId": "17510485-c973-40dc-e6af-0cb12c9ee47a"
      },
      "source": [
        "# Print the path of file\n",
        "\n",
        "print(file1.name)"
      ],
      "execution_count": null,
      "outputs": [
        {
          "output_type": "stream",
          "text": [
            "Example1.txt\n"
          ],
          "name": "stdout"
        }
      ]
    },
    {
      "cell_type": "markdown",
      "metadata": {
        "id": "ug2kgIToUWeJ"
      },
      "source": [
        " The mode the file object is in:"
      ]
    },
    {
      "cell_type": "code",
      "metadata": {
        "id": "lJMYh0K5UWeJ",
        "colab": {
          "base_uri": "https://localhost:8080/",
          "height": 35
        },
        "outputId": "28545b90-3064-40ff-b880-7c72d3e8bf21"
      },
      "source": [
        "# Print the mode of file, either 'r' or 'w'\n",
        "\n",
        "file1.mode"
      ],
      "execution_count": null,
      "outputs": [
        {
          "output_type": "execute_result",
          "data": {
            "application/vnd.google.colaboratory.intrinsic+json": {
              "type": "string"
            },
            "text/plain": [
              "'r'"
            ]
          },
          "metadata": {
            "tags": []
          },
          "execution_count": 7
        }
      ]
    },
    {
      "cell_type": "markdown",
      "metadata": {
        "id": "3fgg-MVqUWeM"
      },
      "source": [
        "We can read the file and assign it to a variable :"
      ]
    },
    {
      "cell_type": "code",
      "metadata": {
        "id": "FpPguSkZUWeM",
        "colab": {
          "base_uri": "https://localhost:8080/",
          "height": 35
        },
        "outputId": "68190d2c-6cac-4d30-c88b-3cc1eee707cc"
      },
      "source": [
        "# Read the file\n",
        "\n",
        "FileContent = file1.read()\n",
        "FileContent"
      ],
      "execution_count": null,
      "outputs": [
        {
          "output_type": "execute_result",
          "data": {
            "application/vnd.google.colaboratory.intrinsic+json": {
              "type": "string"
            },
            "text/plain": [
              "'This is line 1 \\nThis is line 2\\nThis is line 3'"
            ]
          },
          "metadata": {
            "tags": []
          },
          "execution_count": 8
        }
      ]
    },
    {
      "cell_type": "markdown",
      "metadata": {
        "id": "C7Tf4t3GUWeP"
      },
      "source": [
        "The <b>/n</b> means that there is a new line. "
      ]
    },
    {
      "cell_type": "markdown",
      "metadata": {
        "id": "XKTOqN49UWeP"
      },
      "source": [
        "We can print the file: "
      ]
    },
    {
      "cell_type": "code",
      "metadata": {
        "id": "59HXIS6iUWeQ",
        "colab": {
          "base_uri": "https://localhost:8080/",
          "height": 68
        },
        "outputId": "bb239955-98b2-4e0f-f3db-9e102b50d96c"
      },
      "source": [
        "# Print the file with '\\n' as a new line\n",
        "\n",
        "print(FileContent)"
      ],
      "execution_count": null,
      "outputs": [
        {
          "output_type": "stream",
          "text": [
            "This is line 1 \n",
            "This is line 2\n",
            "This is line 3\n"
          ],
          "name": "stdout"
        }
      ]
    },
    {
      "cell_type": "markdown",
      "metadata": {
        "id": "9pMRR4ShUWeR"
      },
      "source": [
        "The file is of type string:"
      ]
    },
    {
      "cell_type": "code",
      "metadata": {
        "id": "Vgaa5ymsUWeS",
        "colab": {
          "base_uri": "https://localhost:8080/",
          "height": 34
        },
        "outputId": "546a79ca-5370-4f80-a6a0-98c634643367"
      },
      "source": [
        "# Type of file content\n",
        "\n",
        "type(FileContent)"
      ],
      "execution_count": null,
      "outputs": [
        {
          "output_type": "execute_result",
          "data": {
            "text/plain": [
              "str"
            ]
          },
          "metadata": {
            "tags": []
          },
          "execution_count": 10
        }
      ]
    },
    {
      "cell_type": "markdown",
      "metadata": {
        "id": "Sq_J8MsgUWeT"
      },
      "source": [
        " We must close the file object:"
      ]
    },
    {
      "cell_type": "code",
      "metadata": {
        "jupyter": {
          "outputs_hidden": true
        },
        "id": "Yt-ecjbwUWeU"
      },
      "source": [
        "# Close file after finish\n",
        "\n",
        "file1.close()"
      ],
      "execution_count": null,
      "outputs": []
    },
    {
      "cell_type": "markdown",
      "metadata": {
        "id": "gB8It6ykUWeX"
      },
      "source": [
        "<hr>"
      ]
    },
    {
      "cell_type": "markdown",
      "metadata": {
        "id": "elUIGN7bUWeX"
      },
      "source": [
        "<h2 id=\"better\">A Better Way to Open a File</h2>"
      ]
    },
    {
      "cell_type": "markdown",
      "metadata": {
        "id": "vogzxvqcUWeX"
      },
      "source": [
        "Using the <code>with</code> statement is better practice, it automatically closes the file even if the code encounters an exception. The code will run everything in the indent block then close the file object. "
      ]
    },
    {
      "cell_type": "code",
      "metadata": {
        "id": "1-IQJkrnUWeY",
        "colab": {
          "base_uri": "https://localhost:8080/",
          "height": 68
        },
        "outputId": "ec895fa1-64ab-4891-db61-659092c49493"
      },
      "source": [
        "# Open file using with\n",
        "\n",
        "with open(example1, \"r\") as file1:\n",
        "    FileContent = file1.read()\n",
        "    print(FileContent)"
      ],
      "execution_count": null,
      "outputs": [
        {
          "output_type": "stream",
          "text": [
            "This is line 1 \n",
            "This is line 2\n",
            "This is line 3\n"
          ],
          "name": "stdout"
        }
      ]
    },
    {
      "cell_type": "markdown",
      "metadata": {
        "id": "uUBqISOcUWeZ"
      },
      "source": [
        "The file object is closed, you can verify it by running the following cell:  "
      ]
    },
    {
      "cell_type": "code",
      "metadata": {
        "id": "oqLgqAHFUWea",
        "colab": {
          "base_uri": "https://localhost:8080/",
          "height": 34
        },
        "outputId": "0b386906-cde4-42eb-e474-6970f8301467"
      },
      "source": [
        "# Verify if the file is closed\n",
        "\n",
        "file1.closed"
      ],
      "execution_count": null,
      "outputs": [
        {
          "output_type": "execute_result",
          "data": {
            "text/plain": [
              "True"
            ]
          },
          "metadata": {
            "tags": []
          },
          "execution_count": 13
        }
      ]
    },
    {
      "cell_type": "markdown",
      "metadata": {
        "id": "QpTt2OXBUWeb"
      },
      "source": [
        " We can see the info in the file:"
      ]
    },
    {
      "cell_type": "code",
      "metadata": {
        "id": "b4bA_p_DUWec",
        "colab": {
          "base_uri": "https://localhost:8080/",
          "height": 68
        },
        "outputId": "d0950aef-f8ba-4c52-b950-66483782b285"
      },
      "source": [
        "# See the content of file\n",
        "\n",
        "print(FileContent)"
      ],
      "execution_count": null,
      "outputs": [
        {
          "output_type": "stream",
          "text": [
            "This is line 1 \n",
            "This is line 2\n",
            "This is line 3\n"
          ],
          "name": "stdout"
        }
      ]
    },
    {
      "cell_type": "markdown",
      "metadata": {
        "id": "IAZ52Jw1UWed"
      },
      "source": [
        "The syntax is a little confusing as the file object is after the <code>as</code> statement. We also don’t explicitly close the file. Therefore we summarize the steps in a figure:"
      ]
    },
    {
      "cell_type": "markdown",
      "metadata": {
        "id": "rmN6cuiRUWee"
      },
      "source": [
        "<img src=\"https://s3-api.us-geo.objectstorage.softlayer.net/cf-courses-data/CognitiveClass/PY0101EN/Chapter%204/Images/ReadWith.png\" width=\"500\" />"
      ]
    },
    {
      "cell_type": "markdown",
      "metadata": {
        "id": "1jW_q3-gUWee"
      },
      "source": [
        "We don’t have to read the entire file, for example, we can read the first 4 characters by entering three as a parameter to the method **.read()**:\n"
      ]
    },
    {
      "cell_type": "code",
      "metadata": {
        "id": "T8q23k4ZUWee",
        "colab": {
          "base_uri": "https://localhost:8080/",
          "height": 34
        },
        "outputId": "84347be2-fd6d-4889-e27c-15dfda7f36de"
      },
      "source": [
        "# Read first four characters\n",
        "\n",
        "with open(example1, \"r\") as file1:\n",
        "    print(file1.read(4))"
      ],
      "execution_count": null,
      "outputs": [
        {
          "output_type": "stream",
          "text": [
            "This\n"
          ],
          "name": "stdout"
        }
      ]
    },
    {
      "cell_type": "markdown",
      "metadata": {
        "id": "SOrTsXjxUWeg"
      },
      "source": [
        "Once the method <code>.read(4)</code> is called the first 4 characters are called. If we call the method again, the next 4 characters are called. The output for the following cell will demonstrate the process for different inputs to the method <code>read()</code>:"
      ]
    },
    {
      "cell_type": "code",
      "metadata": {
        "id": "vHEsY_mRUWeh",
        "colab": {
          "base_uri": "https://localhost:8080/",
          "height": 102
        },
        "outputId": "8f7312e0-f563-4c1d-f12c-1057222be776"
      },
      "source": [
        "# Read certain amount of characters\n",
        "\n",
        "with open(example1, \"r\") as file1:\n",
        "    print(file1.read(4))\n",
        "    print(file1.read(4))\n",
        "    print(file1.read(7))\n",
        "    print(file1.read(15))"
      ],
      "execution_count": null,
      "outputs": [
        {
          "output_type": "stream",
          "text": [
            "This\n",
            " is \n",
            "line 1 \n",
            "\n",
            "This is line 2\n"
          ],
          "name": "stdout"
        }
      ]
    },
    {
      "cell_type": "markdown",
      "metadata": {
        "id": "wDOoBS5mUWei"
      },
      "source": [
        "The process is illustrated in the below figure, and each color represents the part of the file read after the method <code>read()</code> is called:"
      ]
    },
    {
      "cell_type": "markdown",
      "metadata": {
        "id": "btWBz-OFUWej"
      },
      "source": [
        "<img src=\"https://s3-api.us-geo.objectstorage.softlayer.net/cf-courses-data/CognitiveClass/PY0101EN/Chapter%204/Images/ReadChar.png\" width=\"500\" />"
      ]
    },
    {
      "cell_type": "markdown",
      "metadata": {
        "id": "awE6_TELUWej"
      },
      "source": [
        " Here is an example using the same file, but instead we read 16, 5, and then 9 characters at a time: "
      ]
    },
    {
      "cell_type": "code",
      "metadata": {
        "id": "sU7B-r2wUWej",
        "colab": {
          "base_uri": "https://localhost:8080/",
          "height": 85
        },
        "outputId": "fa849e14-7c73-4ca5-aaf7-2c04f8cd4f2c"
      },
      "source": [
        "# Read certain amount of characters\n",
        "\n",
        "with open(example1, \"r\") as file1:\n",
        "    print(file1.read(16))\n",
        "    print(file1.read(5))\n",
        "    print(file1.read(9))"
      ],
      "execution_count": null,
      "outputs": [
        {
          "output_type": "stream",
          "text": [
            "This is line 1 \n",
            "\n",
            "This \n",
            "is line 2\n"
          ],
          "name": "stdout"
        }
      ]
    },
    {
      "cell_type": "markdown",
      "metadata": {
        "id": "f9R9fpkxUWel"
      },
      "source": [
        "We can also read one line of the file at a time using the method <code>readline()</code>: "
      ]
    },
    {
      "cell_type": "code",
      "metadata": {
        "id": "eNxDMIpXUWel",
        "colab": {
          "base_uri": "https://localhost:8080/",
          "height": 51
        },
        "outputId": "64e79fde-8ce7-4020-d7c1-43f2ea529543"
      },
      "source": [
        "# Read one line\n",
        "\n",
        "with open(example1, \"r\") as file1:\n",
        "    print(\"first line: \" + file1.readline())"
      ],
      "execution_count": null,
      "outputs": [
        {
          "output_type": "stream",
          "text": [
            "first line: This is line 1 \n",
            "\n"
          ],
          "name": "stdout"
        }
      ]
    },
    {
      "cell_type": "markdown",
      "metadata": {
        "id": "0ddhIW2TUWen"
      },
      "source": [
        " We can use a loop to iterate through each line: \n"
      ]
    },
    {
      "cell_type": "code",
      "metadata": {
        "id": "Bz8QB2BTUWen",
        "colab": {
          "base_uri": "https://localhost:8080/",
          "height": 102
        },
        "outputId": "4ffe9b68-09b6-4af5-e1d8-561da830ebed"
      },
      "source": [
        "# Iterate through the lines\n",
        "\n",
        "with open(example1,\"r\") as file1:\n",
        "        i = 0;\n",
        "        for line in file1:\n",
        "            print(\"Iteration\", str(i), \": \", line)\n",
        "            i = i + 1;"
      ],
      "execution_count": null,
      "outputs": [
        {
          "output_type": "stream",
          "text": [
            "Iteration 0 :  This is line 1 \n",
            "\n",
            "Iteration 1 :  This is line 2\n",
            "\n",
            "Iteration 2 :  This is line 3\n"
          ],
          "name": "stdout"
        }
      ]
    },
    {
      "cell_type": "markdown",
      "metadata": {
        "id": "7zvpHQnBUWep"
      },
      "source": [
        "We can use the method <code>readlines()</code> to save the text file to a list: "
      ]
    },
    {
      "cell_type": "code",
      "metadata": {
        "jupyter": {
          "outputs_hidden": true
        },
        "id": "2GODz9NqUWep"
      },
      "source": [
        "# Read all lines and save as a list\n",
        "\n",
        "with open(example1, \"r\") as file1:\n",
        "    FileasList = file1.readlines()"
      ],
      "execution_count": null,
      "outputs": []
    },
    {
      "cell_type": "markdown",
      "metadata": {
        "id": "Dgmorc_SUWer"
      },
      "source": [
        " Each element of the list corresponds to a line of text:"
      ]
    },
    {
      "cell_type": "code",
      "metadata": {
        "id": "eueC658wUWer",
        "colab": {
          "base_uri": "https://localhost:8080/",
          "height": 35
        },
        "outputId": "12cd8c64-d1c7-448d-9ab8-5eb70b92afeb"
      },
      "source": [
        "# Print the first line\n",
        "\n",
        "FileasList[0]"
      ],
      "execution_count": null,
      "outputs": [
        {
          "output_type": "execute_result",
          "data": {
            "application/vnd.google.colaboratory.intrinsic+json": {
              "type": "string"
            },
            "text/plain": [
              "'This is line 1 \\n'"
            ]
          },
          "metadata": {
            "tags": []
          },
          "execution_count": 21
        }
      ]
    },
    {
      "cell_type": "code",
      "metadata": {
        "id": "FZPH68ipUWet",
        "colab": {
          "base_uri": "https://localhost:8080/",
          "height": 35
        },
        "outputId": "ddbf1c58-af88-4822-89a9-fae61bd27a88"
      },
      "source": [
        "# Print the second line\n",
        "\n",
        "FileasList[1]"
      ],
      "execution_count": null,
      "outputs": [
        {
          "output_type": "execute_result",
          "data": {
            "application/vnd.google.colaboratory.intrinsic+json": {
              "type": "string"
            },
            "text/plain": [
              "'This is line 2\\n'"
            ]
          },
          "metadata": {
            "tags": []
          },
          "execution_count": 22
        }
      ]
    },
    {
      "cell_type": "code",
      "metadata": {
        "id": "cIxWQ6HQUWeu",
        "colab": {
          "base_uri": "https://localhost:8080/",
          "height": 35
        },
        "outputId": "5c01b23f-c04b-40d6-859f-7fe4af8a0669"
      },
      "source": [
        "# Print the third line\n",
        "\n",
        "FileasList[2]"
      ],
      "execution_count": null,
      "outputs": [
        {
          "output_type": "execute_result",
          "data": {
            "application/vnd.google.colaboratory.intrinsic+json": {
              "type": "string"
            },
            "text/plain": [
              "'This is line 3'"
            ]
          },
          "metadata": {
            "tags": []
          },
          "execution_count": 23
        }
      ]
    },
    {
      "cell_type": "markdown",
      "metadata": {
        "id": "VLGBEGeRVcNf"
      },
      "source": [
        "<h2 id=\"write\">Writing Files</h2>\n",
        "\n",
        " We can open a file object using the method <code>write()</code> to save the text file to a list. To write the mode, argument must be set to write <b>w</b>. Let’s write a file <b>Example2.txt</b> with the line: <b>“This is line A”</b>"
      ]
    },
    {
      "cell_type": "code",
      "metadata": {
        "id": "PyTCzyjAVUMw"
      },
      "source": [
        "# Write line to file\n",
        "\n",
        "with open('Example2.txt', 'w') as writefile:\n",
        "    writefile.write(\"This is line A\")"
      ],
      "execution_count": null,
      "outputs": []
    },
    {
      "cell_type": "markdown",
      "metadata": {
        "id": "DzG-VReYV2M3"
      },
      "source": [
        " We can read the file to see if it worked:"
      ]
    },
    {
      "cell_type": "code",
      "metadata": {
        "id": "FHdxFFXFVh7p",
        "colab": {
          "base_uri": "https://localhost:8080/",
          "height": 69
        },
        "outputId": "df0b5eee-918e-4eda-ee91-7cb5f1a71d03"
      },
      "source": [
        "# Read file\n",
        "\n",
        "with open('Example2.txt', 'r') as testwritefile:\n",
        "    print(testwritefile.read())"
      ],
      "execution_count": null,
      "outputs": [
        {
          "output_type": "stream",
          "text": [
            "This is line A\n",
            "This is line B\n",
            "\n"
          ],
          "name": "stdout"
        }
      ]
    },
    {
      "cell_type": "code",
      "metadata": {
        "id": "Mm2nvPVjV5BT"
      },
      "source": [
        "# Write lines to file\n",
        "\n",
        "with open('Example2.txt', 'w') as writefile:\n",
        "    writefile.write(\"This is line A\\n\")\n",
        "    writefile.write(\"This is line B\\n\")"
      ],
      "execution_count": null,
      "outputs": []
    },
    {
      "cell_type": "markdown",
      "metadata": {
        "id": "RvYdbA84WAfa"
      },
      "source": [
        "The method <code>.write()</code> works similar to the method <code>.readline()</code>, except instead of reading a new line it writes a new line. The process is illustrated in the figure , the different colour coding of the grid represents a new line added to the file after each method call."
      ]
    },
    {
      "cell_type": "markdown",
      "metadata": {
        "id": "EzgAom8sWI6g"
      },
      "source": [
        "<img src=\"https://s3-api.us-geo.objectstorage.softlayer.net/cf-courses-data/CognitiveClass/PY0101EN/Chapter%204/Images/WriteLine.png\" width=\"500\" />"
      ]
    },
    {
      "cell_type": "markdown",
      "metadata": {
        "id": "wtOeNJyAWLQI"
      },
      "source": [
        "You can check the file to see if your results are correct "
      ]
    },
    {
      "cell_type": "code",
      "metadata": {
        "id": "weUpZxDVWDWE",
        "colab": {
          "base_uri": "https://localhost:8080/",
          "height": 68
        },
        "outputId": "13e428aa-a4da-4d57-a112-bcb38c2fe933"
      },
      "source": [
        "# Check whether write to file\n",
        "\n",
        "with open('Example2.txt', 'r') as testwritefile:\n",
        "    print(testwritefile.read())"
      ],
      "execution_count": null,
      "outputs": [
        {
          "output_type": "stream",
          "text": [
            "This is line A\n",
            "This is line B\n",
            "\n"
          ],
          "name": "stdout"
        }
      ]
    },
    {
      "cell_type": "markdown",
      "metadata": {
        "id": "JPyBnyqUWruz"
      },
      "source": [
        " By setting the mode argument to append **a**  you can append a new line as follows:"
      ]
    },
    {
      "cell_type": "code",
      "metadata": {
        "id": "52xbGmW3Wnk_"
      },
      "source": [
        "# Write a new line to text file\n",
        "\n",
        "with open('Example2.txt', 'a') as testwritefile:\n",
        "    testwritefile.write(\"This is line C\\n\")"
      ],
      "execution_count": null,
      "outputs": []
    },
    {
      "cell_type": "markdown",
      "metadata": {
        "id": "RhsDuYTyW1WS"
      },
      "source": [
        " You can verify the file has changed by running the following cell:"
      ]
    },
    {
      "cell_type": "code",
      "metadata": {
        "id": "5eOXvPhwWt6K",
        "colab": {
          "base_uri": "https://localhost:8080/",
          "height": 85
        },
        "outputId": "ba55b1a4-a175-478e-c849-04913ca9291e"
      },
      "source": [
        "# Verify if the new line is in the text file\n",
        "\n",
        "with open('Example2.txt', 'r') as testwritefile:\n",
        "    print(testwritefile.read())"
      ],
      "execution_count": null,
      "outputs": [
        {
          "output_type": "stream",
          "text": [
            "This is line A\n",
            "This is line B\n",
            "This is line C\n",
            "\n"
          ],
          "name": "stdout"
        }
      ]
    },
    {
      "cell_type": "markdown",
      "metadata": {
        "id": "Yt32DX-YW692"
      },
      "source": [
        " We write a list to a <b>.txt</b> file  as follows:"
      ]
    },
    {
      "cell_type": "code",
      "metadata": {
        "id": "A10hbJooWx2W",
        "colab": {
          "base_uri": "https://localhost:8080/",
          "height": 35
        },
        "outputId": "17281299-1179-4293-e20b-6f090411fb6b"
      },
      "source": [
        "# Sample list of text\n",
        "\n",
        "Lines = [\"This is line A\\n\", \"This is line B\\n\", \"Line 3 okay\\n\"]\n",
        "Lines"
      ],
      "execution_count": null,
      "outputs": [
        {
          "output_type": "execute_result",
          "data": {
            "text/plain": [
              "['This is line A\\n', 'This is line B\\n', 'Line 3 okay\\n']"
            ]
          },
          "metadata": {
            "tags": []
          },
          "execution_count": 11
        }
      ]
    },
    {
      "cell_type": "code",
      "metadata": {
        "id": "YpGyXn9dW8c6",
        "colab": {
          "base_uri": "https://localhost:8080/",
          "height": 121
        },
        "outputId": "a510f3c5-dd1d-442e-ba0a-f94d73183d00"
      },
      "source": [
        "# Write the strings in the list to text file\n",
        "\n",
        "with open('Example3.txt', 'w') as writefile:\n",
        "    for line in Lines:\n",
        "        print(line)\n",
        "        writefile.write(line)"
      ],
      "execution_count": null,
      "outputs": [
        {
          "output_type": "stream",
          "text": [
            "This is line A\n",
            "\n",
            "This is line B\n",
            "\n",
            "Line 3 okay\n",
            "\n"
          ],
          "name": "stdout"
        }
      ]
    },
    {
      "cell_type": "markdown",
      "metadata": {
        "id": "l6BcxVrsXGX0"
      },
      "source": [
        " We can verify the file is written by reading it and printing out the values:  "
      ]
    },
    {
      "cell_type": "code",
      "metadata": {
        "id": "fFL5jNy4W-R9",
        "colab": {
          "base_uri": "https://localhost:8080/",
          "height": 87
        },
        "outputId": "076dd548-646c-4154-f23a-bf05e247af9e"
      },
      "source": [
        "# Verify if writing to file is successfully executed\n",
        "\n",
        "with open('Example3.txt', 'r') as testwritefile:\n",
        "    print(testwritefile.read())"
      ],
      "execution_count": null,
      "outputs": [
        {
          "output_type": "stream",
          "text": [
            "This is line A\n",
            "This is line B\n",
            "Line 3 okay\n",
            "\n"
          ],
          "name": "stdout"
        }
      ]
    },
    {
      "cell_type": "markdown",
      "metadata": {
        "id": "NuLg9rlpXJMV"
      },
      "source": [
        "We can again append to the file by changing the second parameter to <b>a</b>. This adds the code:"
      ]
    },
    {
      "cell_type": "code",
      "metadata": {
        "id": "6CYu8nPDXCH1"
      },
      "source": [
        "# Append the line to the file\n",
        "\n",
        "with open('Example2.txt', 'a') as testwritefile:\n",
        "    testwritefile.write(\"This is line E\\n\")"
      ],
      "execution_count": null,
      "outputs": []
    },
    {
      "cell_type": "markdown",
      "metadata": {
        "id": "mPkDE5OTXLSP"
      },
      "source": [
        "We can see the results of appending the file: "
      ]
    },
    {
      "cell_type": "code",
      "metadata": {
        "id": "r2EcXe-yXKsl",
        "colab": {
          "base_uri": "https://localhost:8080/",
          "height": 104
        },
        "outputId": "84e2b922-37c0-4559-d773-80929d3d0f8e"
      },
      "source": [
        "# Verify if the appending is successfully executed\n",
        "\n",
        "with open('Example2.txt', 'r') as testwritefile:\n",
        "    print(testwritefile.read())"
      ],
      "execution_count": null,
      "outputs": [
        {
          "output_type": "stream",
          "text": [
            "This is line A\n",
            "This is line B\n",
            "This is line D\n",
            "This is line E\n",
            "\n"
          ],
          "name": "stdout"
        }
      ]
    },
    {
      "cell_type": "markdown",
      "metadata": {
        "id": "dG5eUc0gXQBb"
      },
      "source": [
        "<h2 id=\"copy\">Copy a File</h2> \n",
        "\n",
        "Let's copy the file <b>Example2.txt</b> to the file <b>Example3.txt</b>:"
      ]
    },
    {
      "cell_type": "code",
      "metadata": {
        "id": "cJLotGxCXNwG"
      },
      "source": [
        "# Copy file to another\n",
        "\n",
        "with open('Example2.txt','r') as readfile:\n",
        "    with open('Example3.txt','w') as writefile:\n",
        "          for line in readfile:\n",
        "                writefile.write(line)"
      ],
      "execution_count": null,
      "outputs": []
    },
    {
      "cell_type": "markdown",
      "metadata": {
        "id": "p3rgzd8xXWUE"
      },
      "source": [
        "We can read the file to see if everything works:"
      ]
    },
    {
      "cell_type": "code",
      "metadata": {
        "id": "M3yluPMkXUrK",
        "colab": {
          "base_uri": "https://localhost:8080/",
          "height": 87
        },
        "outputId": "d186d20f-5762-48a1-f072-d4c4376c6950"
      },
      "source": [
        "# Verify if the copy is successfully executed\n",
        "\n",
        "with open('Example3.txt','r') as testwritefile:\n",
        "    print(testwritefile.read())"
      ],
      "execution_count": null,
      "outputs": [
        {
          "output_type": "stream",
          "text": [
            "This is line A\n",
            "This is line B\n",
            "Line 3 okay\n",
            "\n"
          ],
          "name": "stdout"
        }
      ]
    },
    {
      "cell_type": "markdown",
      "metadata": {
        "id": "L6KmyaptXcs7"
      },
      "source": [
        "After reading files, we can also write data into files and save them in different file formats like **.txt, .csv, .xls (for excel files) etc**. Let's take a look at some examples.\n",
        "\n",
        "Now go to the directory to ensure the <b>.txt</b> file exists and contains the summary data that we wrote."
      ]
    },
    {
      "cell_type": "code",
      "metadata": {
        "id": "i1sXPyUYXZvs"
      },
      "source": [],
      "execution_count": null,
      "outputs": []
    }
  ]
}