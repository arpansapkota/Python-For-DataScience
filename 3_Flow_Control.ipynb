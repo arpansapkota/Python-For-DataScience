{
  "nbformat": 4,
  "nbformat_minor": 0,
  "metadata": {
    "colab": {
      "provenance": []
    },
    "kernelspec": {
      "name": "python3",
      "display_name": "Python 3"
    }
  },
  "cells": [
    {
      "cell_type": "markdown",
      "metadata": {
        "id": "5iZMk5tL_Dfq"
      },
      "source": [
        "# Decision Control\n",
        "Decision Control Statements helps us to decide on different rules based on conditions. This provides the ability to alter the sequence of program based on condition.\n",
        "\n",
        "**If Statement**\n",
        "\n",
        "```\n",
        "pre statement\n",
        "\n",
        "if condition:\n",
        "  do action\n",
        "\n",
        "post statement\n",
        "```\n",
        "\n",
        "**If Else Statement**\n",
        "\n",
        "\n",
        "```\n",
        "pre statement\n",
        "\n",
        "if condition:\n",
        "  do action a\n",
        "else:\n",
        "  do other action\n",
        "\n",
        "post statement\n",
        "```\n",
        "\n",
        "**If Else if Statement**\n",
        "\n",
        "\n",
        "```\n",
        "pre statement\n",
        "\n",
        "if condition:\n",
        "  do action a\n",
        "elif condition:\n",
        "  do action b\n",
        "elif condition b:\n",
        "  do action c\n",
        "else:\n",
        "  do other action\n",
        "\n",
        "```\n",
        "\n",
        "Very clear. Right? Let's see the example"
      ]
    },
    {
      "cell_type": "code",
      "metadata": {
        "id": "WJ3_InSyFFC_",
        "colab": {
          "base_uri": "https://localhost:8080/",
          "height": 35
        },
        "outputId": "ed7fbfa6-8379-417b-8e46-5ecc2c9fc1d0"
      },
      "source": [
        "# If Statement\n",
        "weather = 11\n",
        "if weather < 20:\n",
        "  print('Winter should have started. Am I right?')"
      ],
      "execution_count": null,
      "outputs": [
        {
          "output_type": "stream",
          "text": [
            "Winter should have started. Am I right?\n"
          ],
          "name": "stdout"
        }
      ]
    },
    {
      "cell_type": "code",
      "metadata": {
        "id": "beTDJl14FUwb",
        "colab": {
          "base_uri": "https://localhost:8080/",
          "height": 35
        },
        "outputId": "0bc463ad-5cf8-4879-eb11-ec60fa1e39ed"
      },
      "source": [
        "#If Else Statement\n",
        "weather = 21\n",
        "if weather < 20:\n",
        "  print('Winter should have started. Am I right?')\n",
        "else:\n",
        "  print('Still Sunny? Enjoy!!!')"
      ],
      "execution_count": null,
      "outputs": [
        {
          "output_type": "stream",
          "text": [
            "Still Sunny? Enjoy!!!\n"
          ],
          "name": "stdout"
        }
      ]
    },
    {
      "cell_type": "code",
      "metadata": {
        "id": "18tci5pbFnhM",
        "colab": {
          "base_uri": "https://localhost:8080/",
          "height": 35
        },
        "outputId": "3a3a46ef-8558-40d2-92ff-baf48b78d9e4"
      },
      "source": [
        "# If Else If Statement\n",
        "weather = 20\n",
        "rain = True\n",
        "if weather < 20 and rain == True:\n",
        "  print('Winter is about to start')\n",
        "elif weather < 20 and rain == False:\n",
        "  print('Hey, its already winter')\n",
        "elif weather >= 20 and rain == False:\n",
        "  print('It must be rainy')\n",
        "else:\n",
        "  print('Hmmmm... must be summer than')"
      ],
      "execution_count": null,
      "outputs": [
        {
          "output_type": "stream",
          "text": [
            "Hmmmm... must be summer than\n"
          ],
          "name": "stdout"
        }
      ]
    },
    {
      "cell_type": "markdown",
      "metadata": {
        "id": "MCRNLqxcGpSx"
      },
      "source": [
        "**Exercise**: \n",
        "1. Do you think we can use parenthesis to enclose conditionals? Check in Python.\n",
        "2. Write a program to check the grade of student.\n",
        "3. Write a python program to check age of person falls in any of the cateogry as 'Child', 'Teenage', 'Adult', 'Old'."
      ]
    },
    {
      "cell_type": "markdown",
      "metadata": {
        "id": "55q3D1n_HqbU"
      },
      "source": [
        "***Important: Python relies on indentation (whitespace at the beginning of a line) to define scope in the code. Other programming languages often use curly-brackets for this purpose. ***"
      ]
    },
    {
      "cell_type": "code",
      "metadata": {
        "id": "hOErVdfUGzQ7",
        "colab": {
          "base_uri": "https://localhost:8080/",
          "height": 128
        },
        "outputId": "14bb8a6d-5484-4a87-8c19-8abb39b6165a"
      },
      "source": [
        "#Try this once\n",
        "a = 33\n",
        "b = 200\n",
        "if b > a:\n",
        "print(\"b is greater than a\") # you will get an error "
      ],
      "execution_count": null,
      "outputs": [
        {
          "output_type": "error",
          "ename": "IndentationError",
          "evalue": "ignored",
          "traceback": [
            "\u001b[0;36m  File \u001b[0;32m\"<ipython-input-1-d6b819ef9c2d>\"\u001b[0;36m, line \u001b[0;32m5\u001b[0m\n\u001b[0;31m    print(\"b is greater than a\") # you will get an error\u001b[0m\n\u001b[0m        ^\u001b[0m\n\u001b[0;31mIndentationError\u001b[0m\u001b[0;31m:\u001b[0m expected an indented block\n"
          ]
        }
      ]
    },
    {
      "cell_type": "markdown",
      "metadata": {
        "id": "F37imltaIOcu"
      },
      "source": [
        "Short Hand If\n",
        "\n",
        "Python facilitates with short form of If Else Statement. Run the example below:\n"
      ]
    },
    {
      "cell_type": "code",
      "metadata": {
        "id": "_V62yajbH-hj",
        "colab": {
          "base_uri": "https://localhost:8080/",
          "height": 35
        },
        "outputId": "8d8719ed-bba0-4cd7-d8cf-8cba0c2eb027"
      },
      "source": [
        "# Short If Statement\n",
        "a = 33\n",
        "b = 200\n",
        "if a < b: print(\"a is greater than b\")"
      ],
      "execution_count": null,
      "outputs": [
        {
          "output_type": "stream",
          "text": [
            "a is greater than b\n"
          ],
          "name": "stdout"
        }
      ]
    },
    {
      "cell_type": "code",
      "metadata": {
        "id": "Hdv-HFN_Iqdk",
        "colab": {
          "base_uri": "https://localhost:8080/",
          "height": 35
        },
        "outputId": "578e76ed-b5c9-4b6e-9adf-10d32ca68e4a"
      },
      "source": [
        "#Short Hand If ... Else\n",
        "a = 2\n",
        "b = 330\n",
        "print(\"a\") if a > b else print(\"b\")"
      ],
      "execution_count": null,
      "outputs": [
        {
          "output_type": "stream",
          "text": [
            "b\n"
          ],
          "name": "stdout"
        }
      ]
    },
    {
      "cell_type": "markdown",
      "metadata": {
        "id": "8KvrGt8oJUHV"
      },
      "source": [
        "Let's see if nested if works. Try to interpret the below code."
      ]
    },
    {
      "cell_type": "code",
      "metadata": {
        "id": "Azrwj_qdJAGJ",
        "colab": {
          "base_uri": "https://localhost:8080/",
          "height": 35
        },
        "outputId": "12d8addf-959d-415f-aeec-282819d4f04f"
      },
      "source": [
        "a = 330\n",
        "b = 330\n",
        "print(\"A\") if a > b else print(\"=\") if a == b else print(\"B\") "
      ],
      "execution_count": null,
      "outputs": [
        {
          "output_type": "stream",
          "text": [
            "=\n"
          ],
          "name": "stdout"
        }
      ]
    },
    {
      "cell_type": "markdown",
      "metadata": {
        "id": "mZgt-K7XKayB"
      },
      "source": [
        "**Exercise**\n",
        "1. Write a program using Shorthand if statement to check if number is positive or negative. \n",
        "2. Handle 0 case in above program.\n",
        "3. Write a program using shorthand if statement to check if number is odd or even.\n",
        "\n",
        "Python also supports for nested if else statement. See the example below:"
      ]
    },
    {
      "cell_type": "code",
      "metadata": {
        "id": "Wlz9WoPXJagI",
        "colab": {
          "base_uri": "https://localhost:8080/"
        },
        "outputId": "dd6bad53-7dd5-40d2-f1cc-685c2357f46f"
      },
      "source": [
        "'''In this program, we input a number check if the number is positive or\n",
        "    negative or zero and display an appropriate message. This time we use nested if.\n",
        "    '''\n",
        "num = float(input(\"Enter a number: \"))\n",
        "if num >= 0:\n",
        "  if num == 0:\n",
        "    print(\"Zero\")\n",
        "  else:\n",
        "    print(\"Positive number\")\n",
        "else:\n",
        "  print(\"Negative number\")"
      ],
      "execution_count": null,
      "outputs": [
        {
          "output_type": "stream",
          "name": "stdout",
          "text": [
            "Enter a number: -5\n",
            "Negative number\n"
          ]
        }
      ]
    },
    {
      "cell_type": "markdown",
      "metadata": {
        "id": "4-44VWirMyxt"
      },
      "source": [
        "# Loop Control\n",
        "\n",
        "A kind of flow control in python. Different flow controls for loop available in python are as below:\n",
        "\n",
        "1. **While Loop**: With the while loop we can execute a set of statements as long as a condition is true."
      ]
    },
    {
      "cell_type": "code",
      "metadata": {
        "id": "pUE9yMQRNH5N",
        "colab": {
          "base_uri": "https://localhost:8080/",
          "height": 201
        },
        "outputId": "7cec72d1-77c1-46bc-80b8-fbf5e7547efa"
      },
      "source": [
        "i = 1\n",
        "while i <= 10:\n",
        "  print('Loop runs for', i, 'as a value of i')\n",
        "  i += 1"
      ],
      "execution_count": null,
      "outputs": [
        {
          "output_type": "stream",
          "text": [
            "Loop runs for 1 as a value of i\n",
            "Loop runs for 2 as a value of i\n",
            "Loop runs for 3 as a value of i\n",
            "Loop runs for 4 as a value of i\n",
            "Loop runs for 5 as a value of i\n",
            "Loop runs for 6 as a value of i\n",
            "Loop runs for 7 as a value of i\n",
            "Loop runs for 8 as a value of i\n",
            "Loop runs for 9 as a value of i\n",
            "Loop runs for 10 as a value of i\n"
          ],
          "name": "stdout"
        }
      ]
    },
    {
      "cell_type": "markdown",
      "metadata": {
        "id": "bQ02TNa1NtWq"
      },
      "source": [
        "2. **For Loop**: The for loop in Python is used to iterate over a sequence like list, tuple, strings, dictionaries or other iterable objects. Iterating over a sequence is called traversal.\n",
        "\n",
        "Run the following example:\n"
      ]
    },
    {
      "cell_type": "code",
      "metadata": {
        "id": "idy-MImsNenP",
        "colab": {
          "base_uri": "https://localhost:8080/",
          "height": 72
        },
        "outputId": "5cac5087-b745-489c-ef51-b7b1417efa19"
      },
      "source": [
        "# Example of For Loop over fruit list\n",
        "fruits = [\"apple\", \"banana\", \"cherry\"]\n",
        "for x in fruits:\n",
        "  print(x)"
      ],
      "execution_count": null,
      "outputs": [
        {
          "output_type": "stream",
          "text": [
            "apple\n",
            "banana\n",
            "cherry\n"
          ],
          "name": "stdout"
        }
      ]
    },
    {
      "cell_type": "markdown",
      "metadata": {
        "id": "15qEt1RAOnUQ"
      },
      "source": [
        "For loop can be executed over strings as well."
      ]
    },
    {
      "cell_type": "code",
      "metadata": {
        "id": "FSU9yPk3OmMs",
        "colab": {
          "base_uri": "https://localhost:8080/",
          "height": 807
        },
        "outputId": "ce411a5f-f3af-4609-e3f6-a01d8a043396"
      },
      "source": [
        "for x in \"A brown fox quickly jumps over the lazy dog\":\n",
        "  print(x)"
      ],
      "execution_count": null,
      "outputs": [
        {
          "output_type": "stream",
          "text": [
            "A\n",
            " \n",
            "b\n",
            "r\n",
            "o\n",
            "w\n",
            "n\n",
            " \n",
            "f\n",
            "o\n",
            "x\n",
            " \n",
            "q\n",
            "u\n",
            "i\n",
            "c\n",
            "k\n",
            "l\n",
            "y\n",
            " \n",
            "j\n",
            "u\n",
            "m\n",
            "p\n",
            "s\n",
            " \n",
            "o\n",
            "v\n",
            "e\n",
            "r\n",
            " \n",
            "t\n",
            "h\n",
            "e\n",
            " \n",
            "l\n",
            "a\n",
            "z\n",
            "y\n",
            " \n",
            "d\n",
            "o\n",
            "g\n"
          ],
          "name": "stdout"
        }
      ]
    },
    {
      "cell_type": "markdown",
      "metadata": {
        "id": "-V9181ypO6CH"
      },
      "source": [
        "Isn't it awesome. Let's see further more scenarios.\n"
      ]
    },
    {
      "cell_type": "code",
      "metadata": {
        "id": "PyQVGHh2O3PN",
        "colab": {
          "base_uri": "https://localhost:8080/",
          "height": 104
        },
        "outputId": "fd59825c-e419-4258-af25-b8633823a76f"
      },
      "source": [
        "for x in range(5):\n",
        "  print(x)"
      ],
      "execution_count": null,
      "outputs": [
        {
          "output_type": "stream",
          "text": [
            "0\n",
            "1\n",
            "2\n",
            "3\n",
            "4\n"
          ],
          "name": "stdout"
        }
      ]
    },
    {
      "cell_type": "markdown",
      "metadata": {
        "id": "kY3uS7I-PIU7"
      },
      "source": [
        "Awesome!!! But how does it works. Let's see the output of range first.\n"
      ]
    },
    {
      "cell_type": "code",
      "metadata": {
        "id": "aMx60urRPSgT",
        "colab": {
          "base_uri": "https://localhost:8080/",
          "height": 54
        },
        "outputId": "1bbe7e33-0740-4a77-c816-b9d3eb244e6a"
      },
      "source": [
        "range_to_5 = range(5)\n",
        "print(range_to_5)\n",
        "print(type(range_to_5))"
      ],
      "execution_count": null,
      "outputs": [
        {
          "output_type": "stream",
          "text": [
            "range(0, 5)\n",
            "<class 'range'>\n"
          ],
          "name": "stdout"
        }
      ]
    },
    {
      "cell_type": "markdown",
      "metadata": {
        "id": "mzgmtIWyPlKW"
      },
      "source": [
        "Remember the range data type we discussed earlier. Range itself is data type. But looks like range starts from 0 alwaysand produces list of number upto given value. Let's try once again with range but we will convert range to list this time. "
      ]
    },
    {
      "cell_type": "code",
      "metadata": {
        "id": "aCQgF41HP6eD",
        "colab": {
          "base_uri": "https://localhost:8080/",
          "height": 35
        },
        "outputId": "0f7466f0-d096-49c2-9d2f-fba30e18ae74"
      },
      "source": [
        "list(range(1,5))"
      ],
      "execution_count": null,
      "outputs": [
        {
          "output_type": "execute_result",
          "data": {
            "text/plain": [
              "[1, 2, 3, 4]"
            ]
          },
          "metadata": {
            "tags": []
          },
          "execution_count": 30
        }
      ]
    },
    {
      "cell_type": "markdown",
      "metadata": {
        "id": "GztIExhFQMT5"
      },
      "source": [
        "Hmmmmmm.... gotta. So the starting value is inclusive but ending value is exclusive in range. I think this is very important. Need to remember this forever.\n",
        "\n",
        "But how to use increment in loop if we are using range?"
      ]
    },
    {
      "cell_type": "code",
      "metadata": {
        "id": "OWG1_drdQBH8",
        "colab": {
          "base_uri": "https://localhost:8080/",
          "height": 109
        },
        "outputId": "b0ce77eb-347b-4d8b-88ae-8a3716ff9773"
      },
      "source": [
        "for x in range(1, 10, 2):\n",
        "  print(x)"
      ],
      "execution_count": null,
      "outputs": [
        {
          "output_type": "stream",
          "text": [
            "1\n",
            "3\n",
            "5\n",
            "7\n",
            "9\n"
          ],
          "name": "stdout"
        }
      ]
    },
    {
      "cell_type": "markdown",
      "metadata": {
        "id": "8kyYl79qzMzJ"
      },
      "source": [
        "Let's print a pyramid."
      ]
    },
    {
      "cell_type": "code",
      "metadata": {
        "id": "mSyNF5AIzPw7",
        "colab": {
          "base_uri": "https://localhost:8080/",
          "height": 191
        },
        "outputId": "5aa822f2-0ae0-44c3-c6c4-dd89a7232e73"
      },
      "source": [
        "for i in range(0, 10): \n",
        "        for j in range(i,10):\n",
        "            print(\"* \",end=\"\") \n",
        "        print(\"\\r\") "
      ],
      "execution_count": null,
      "outputs": [
        {
          "output_type": "stream",
          "text": [
            "* * * * * * * * * * \r\n",
            "* * * * * * * * * \r\n",
            "* * * * * * * * \r\n",
            "* * * * * * * \r\n",
            "* * * * * * \r\n",
            "* * * * * \r\n",
            "* * * * \r\n",
            "* * * \r\n",
            "* * \r\n",
            "* \r\n"
          ],
          "name": "stdout"
        }
      ]
    },
    {
      "cell_type": "markdown",
      "metadata": {
        "id": "51QhyuE-Qwil"
      },
      "source": [
        "Nice!!! Increment is also available with range function. \n",
        "\n",
        "We can also combine with the len() function to iterate though a sequence using indexing. Here is an example."
      ]
    },
    {
      "cell_type": "code",
      "metadata": {
        "id": "OfZxmQ1FQpDs",
        "colab": {
          "base_uri": "https://localhost:8080/",
          "height": 72
        },
        "outputId": "70e9ace5-934e-4796-ddae-ffa6f3683cf8"
      },
      "source": [
        "# Program to iterate through a list using indexing\n",
        "\n",
        "genre = ['pop', 'rock', 'jazz']\n",
        "\n",
        "# iterate over the list using index\n",
        "for i in range(len(genre)):\n",
        "\tprint(\"I like\", genre[i])"
      ],
      "execution_count": null,
      "outputs": [
        {
          "output_type": "stream",
          "text": [
            "I like pop\n",
            "I like rock\n",
            "I like jazz\n"
          ],
          "name": "stdout"
        }
      ]
    },
    {
      "cell_type": "markdown",
      "metadata": {
        "id": "tTfV9YsSRsJb"
      },
      "source": [
        "# Else with Loop\n",
        "\n",
        "If you are experienced with other programming language, you might get surprised here that you can use Else statement with loops. See the below examples for While loop and Foor Loop\n"
      ]
    },
    {
      "cell_type": "code",
      "metadata": {
        "id": "pt96NolWRV80",
        "colab": {
          "base_uri": "https://localhost:8080/",
          "height": 72
        },
        "outputId": "6737a09f-0ba1-445c-9a3e-62176aa8b69e"
      },
      "source": [
        "# Else with While Loop\n",
        "\n",
        "counter = 10\n",
        "\n",
        "while counter < 3:\n",
        "    print(\"Inside loop\")\n",
        "    counter = counter + 1\n",
        "else:\n",
        "    print(\"Inside else\")\n",
        "\n",
        "print('\\nFinally, Control Outside of Loop.')"
      ],
      "execution_count": null,
      "outputs": [
        {
          "output_type": "stream",
          "text": [
            "Inside else\n",
            "\n",
            "Finally, Control Outside of Loop.\n"
          ],
          "name": "stdout"
        }
      ]
    },
    {
      "cell_type": "code",
      "metadata": {
        "id": "hto_gLXoShxY",
        "colab": {
          "base_uri": "https://localhost:8080/",
          "height": 127
        },
        "outputId": "9adba654-31c8-4d2e-878a-fa6b4e016d05"
      },
      "source": [
        "digits = [0, 1, 5]\n",
        "\n",
        "for i in digits:\n",
        "    print(i)\n",
        "else:\n",
        "    print(\"No items left.\")\n",
        "\n",
        "print('\\nControl outside of for loop')"
      ],
      "execution_count": null,
      "outputs": [
        {
          "output_type": "stream",
          "text": [
            "0\n",
            "1\n",
            "5\n",
            "No items left.\n",
            "\n",
            "Control outside of for loop\n"
          ],
          "name": "stdout"
        }
      ]
    },
    {
      "cell_type": "markdown",
      "metadata": {
        "id": "FuuU-18ESz3q"
      },
      "source": [
        "# Continue Statement\n",
        "\n",
        "The continue statement is used to skip the rest of the code inside a loop for the current iteration only. Loop does not terminate but continues on with the next iteration."
      ]
    },
    {
      "cell_type": "code",
      "metadata": {
        "id": "zm6A-qtbSyr1",
        "colab": {
          "base_uri": "https://localhost:8080/",
          "height": 54
        },
        "outputId": "53e194d6-74eb-4197-aa73-7291305eca9f"
      },
      "source": [
        "# Continue with for loop\n",
        "fruits = [\"apple\", \"banana\", \"cherry\"]\n",
        "for x in fruits:\n",
        "  if x == \"cherry\": # Because I don't like cherry\n",
        "    continue\n",
        "  print('I like', x)"
      ],
      "execution_count": null,
      "outputs": [
        {
          "output_type": "stream",
          "text": [
            "I like apple\n",
            "I like banana\n"
          ],
          "name": "stdout"
        }
      ]
    },
    {
      "cell_type": "markdown",
      "metadata": {
        "id": "kt9PH0VMT2Yx"
      },
      "source": [
        "**Exercise**: Write a program using Continue statement in While loop.\n"
      ]
    },
    {
      "cell_type": "markdown",
      "metadata": {
        "id": "MeOLVVuMUEoW"
      },
      "source": [
        "# Break Statement\n",
        "The break statement terminates the loop containing it. Control of the program flows to the statement immediately after the body of the loop.\n",
        "\n",
        "If break statement is inside a nested loop (loop inside another loop), break will terminate the innermost loop.\n"
      ]
    },
    {
      "cell_type": "code",
      "metadata": {
        "id": "QzC7xG-wTftx",
        "colab": {
          "base_uri": "https://localhost:8080/",
          "height": 72
        },
        "outputId": "f8db6c09-1145-4363-93a5-824ccec87743"
      },
      "source": [
        "#Break kStatement\n",
        "\n",
        "i = 1\n",
        "while i < 10:\n",
        "  print(i)\n",
        "  if i == 3:\n",
        "    break\n",
        "  i += 1"
      ],
      "execution_count": null,
      "outputs": [
        {
          "output_type": "stream",
          "text": [
            "1\n",
            "2\n",
            "3\n"
          ],
          "name": "stdout"
        }
      ]
    },
    {
      "cell_type": "markdown",
      "metadata": {
        "id": "C7qZFNviUd8m"
      },
      "source": [
        "**Exercise**: Write a program using Break statement in For Loop."
      ]
    },
    {
      "cell_type": "markdown",
      "metadata": {
        "id": "t-UsCsICUtU-"
      },
      "source": [
        "# Pass Statement\n",
        "\n",
        "Pass in python is for do no action. It's a null statement in python. You can use pass with any flow control."
      ]
    },
    {
      "cell_type": "code",
      "metadata": {
        "id": "cNGu5w21UYzZ"
      },
      "source": [
        "# Pass with loop\n",
        "sequence = {'p', 'a', 's', 's'}\n",
        "for val in sequence:\n",
        "    pass"
      ],
      "execution_count": null,
      "outputs": []
    },
    {
      "cell_type": "code",
      "metadata": {
        "id": "w_C-d4F_VRDQ",
        "colab": {
          "base_uri": "https://localhost:8080/",
          "height": 69
        },
        "outputId": "8978099b-178e-4364-893b-317d8a6f1306"
      },
      "source": [
        "# Pass with if statement in loop\n",
        "sequence = {'p', 'a', 's', 's'}\n",
        "print(type(sequence))\n",
        "for val in sequence:\n",
        "    if val == 'a':\n",
        "      pass\n",
        "    else:\n",
        "      print(val)"
      ],
      "execution_count": null,
      "outputs": [
        {
          "output_type": "stream",
          "text": [
            "<class 'set'>\n",
            "p\n",
            "s\n"
          ],
          "name": "stdout"
        }
      ]
    },
    {
      "cell_type": "markdown",
      "metadata": {
        "id": "1LiJEbzRVymN"
      },
      "source": [
        "**Exercise**\n",
        "1. Write a program to multiply 2 x 2 matrix.\n",
        "\n"
      ]
    },
    {
      "cell_type": "code",
      "metadata": {
        "id": "XJvMujUrVxiJ",
        "colab": {
          "base_uri": "https://localhost:8080/",
          "height": 104
        },
        "outputId": "303a8e5b-160b-49b3-d214-a4609fa16b2b"
      },
      "source": [
        "#@title Write a program to print following:\n",
        "country='NEPAL'\n",
        "for i in range(len(country)):\n",
        "  for j in range(0,i+1):\n",
        "    print(country[j],end=\"\")\n",
        "  # ending line after each row \n",
        "  print(\"\\r\") "
      ],
      "execution_count": null,
      "outputs": [
        {
          "output_type": "stream",
          "text": [
            "N\r\n",
            "NE\r\n",
            "NEP\r\n",
            "NEPA\r\n",
            "NEPAL\r\n"
          ],
          "name": "stdout"
        }
      ]
    },
    {
      "cell_type": "markdown",
      "metadata": {
        "id": "qdZVIOlqlKza"
      },
      "source": [
        "#Python Input/Output (I/O)\n",
        "\n",
        "Before we jump into python functions, let's understand about input output used in python. We have been using print function since our first day of learning python. Let's discet python i/o before we advance further. \n",
        "\n",
        "Run the code below:"
      ]
    },
    {
      "cell_type": "code",
      "metadata": {
        "id": "zwYmbpGtnDz2",
        "colab": {
          "base_uri": "https://localhost:8080/",
          "height": 36
        },
        "outputId": "7f324fca-f73f-46ee-c024-d91f791363f2"
      },
      "source": [
        "print(\"90\" * 5)"
      ],
      "execution_count": null,
      "outputs": [
        {
          "output_type": "stream",
          "text": [
            "9090909090\n"
          ],
          "name": "stdout"
        }
      ]
    },
    {
      "cell_type": "code",
      "metadata": {
        "id": "I9R-oYOqnMbn",
        "colab": {
          "base_uri": "https://localhost:8080/",
          "height": 36
        },
        "outputId": "7002da00-9522-46f9-8496-30e35fe70f59"
      },
      "source": [
        "print(5 * 6)"
      ],
      "execution_count": null,
      "outputs": [
        {
          "output_type": "stream",
          "text": [
            "30\n"
          ],
          "name": "stdout"
        }
      ]
    },
    {
      "cell_type": "code",
      "metadata": {
        "id": "L8gWzeXnnPje",
        "colab": {
          "base_uri": "https://localhost:8080/",
          "height": 36
        },
        "outputId": "76203427-7a9d-4d59-dc4d-d1d7b403b288"
      },
      "source": [
        "print(5,6)"
      ],
      "execution_count": null,
      "outputs": [
        {
          "output_type": "stream",
          "text": [
            "5 6\n"
          ],
          "name": "stdout"
        }
      ]
    },
    {
      "cell_type": "code",
      "metadata": {
        "id": "iQDsnE9-nTyS",
        "colab": {
          "base_uri": "https://localhost:8080/",
          "height": 36
        },
        "outputId": "b5d14e9a-750e-4b98-a203-afeed01271fe"
      },
      "source": [
        "a, b = 60, 90\n",
        "print(a,b)"
      ],
      "execution_count": null,
      "outputs": [
        {
          "output_type": "stream",
          "text": [
            "60 90\n"
          ],
          "name": "stdout"
        }
      ]
    },
    {
      "cell_type": "code",
      "metadata": {
        "id": "ktCtF36xnc_l",
        "colab": {
          "base_uri": "https://localhost:8080/",
          "height": 36
        },
        "outputId": "8d339280-73f2-44dc-e301-9de3c1713ef4"
      },
      "source": [
        "#One more time\n",
        "a,b,c = 1.0, \"Two\", 3\n",
        "\n",
        "print(a,b,c)"
      ],
      "execution_count": null,
      "outputs": [
        {
          "output_type": "stream",
          "text": [
            "1.0 Two 3\n"
          ],
          "name": "stdout"
        }
      ]
    },
    {
      "cell_type": "code",
      "metadata": {
        "id": "Vj9g-0gNnugo",
        "colab": {
          "base_uri": "https://localhost:8080/"
        },
        "outputId": "dc555b20-cfa8-4511-b0da-b32c62d348f3"
      },
      "source": [
        "#Using separater with the list in print\n",
        "print(1,2,3,4,5,6,7,8,9,0, sep = \",\")"
      ],
      "execution_count": null,
      "outputs": [
        {
          "output_type": "stream",
          "name": "stdout",
          "text": [
            "1,2,3,4,5,6,7,8,9,0\n"
          ]
        }
      ]
    },
    {
      "cell_type": "code",
      "metadata": {
        "id": "QBmFqFaAoQLH",
        "colab": {
          "base_uri": "https://localhost:8080/",
          "height": 36
        },
        "outputId": "2a76b5d5-cd5f-41a9-97e2-ee74f2058b9c"
      },
      "source": [
        "#EOL in print\n",
        "print(1,2,3,4,5,6,7,8,9,0, sep=', ',end=\"&\")"
      ],
      "execution_count": null,
      "outputs": [
        {
          "output_type": "stream",
          "text": [
            "1, 2, 3, 4, 5, 6, 7, 8, 9, 0&"
          ],
          "name": "stdout"
        }
      ]
    },
    {
      "cell_type": "code",
      "metadata": {
        "id": "Pe5hn8-doi0m",
        "colab": {
          "base_uri": "https://localhost:8080/",
          "height": 36
        },
        "outputId": "36035b2f-3ef4-4a60-fb19-2aceadddf749"
      },
      "source": [
        "#let's try this as well. Manipulating the string\n",
        "for char in \"python\":\n",
        "  print(char, end=\":\")"
      ],
      "execution_count": null,
      "outputs": [
        {
          "output_type": "stream",
          "text": [
            "p:y:t:h:o:n:"
          ],
          "name": "stdout"
        }
      ]
    },
    {
      "cell_type": "code",
      "metadata": {
        "id": "5LFRhd2Vo6PX",
        "colab": {
          "base_uri": "https://localhost:8080/",
          "height": 36
        },
        "outputId": "df190a93-dd1e-45fc-b5b6-eef21c876dea"
      },
      "source": [
        "#Concating Number and strings\n",
        "a = b = 10\n",
        "\n",
        "print(\"Value of a and b is\", a)"
      ],
      "execution_count": null,
      "outputs": [
        {
          "output_type": "stream",
          "text": [
            "Value of a and b is 10\n"
          ],
          "name": "stdout"
        }
      ]
    },
    {
      "cell_type": "code",
      "metadata": {
        "id": "V2IVu82ppLzf",
        "colab": {
          "base_uri": "https://localhost:8080/",
          "height": 36
        },
        "outputId": "4758c4db-6ed1-4489-8d9d-aa6a5763325e"
      },
      "source": [
        "#Concating Number and string differently\n",
        "a,b=4,9\n",
        "\n",
        "print(\"Value of a is\",a,\"and value of b is\",b)"
      ],
      "execution_count": null,
      "outputs": [
        {
          "output_type": "stream",
          "text": [
            "Value of a is 4 and value of b is 9\n"
          ],
          "name": "stdout"
        }
      ]
    },
    {
      "cell_type": "code",
      "metadata": {
        "id": "5EGn14TnpcIB",
        "colab": {
          "base_uri": "https://localhost:8080/",
          "height": 36
        },
        "outputId": "a94da5a8-f0c8-421a-8542-820a0022f131"
      },
      "source": [
        "#Let's try something different for same manipulation as above. \n",
        "#Here we use String formatting method str.format().\n",
        "a,b = 4,9\n",
        "\n",
        "print(\"Value of a is {} and value of b is {}\".format(a,b))"
      ],
      "execution_count": null,
      "outputs": [
        {
          "output_type": "stream",
          "text": [
            "Value of a is 4 and value of b is 9\n"
          ],
          "name": "stdout"
        }
      ]
    },
    {
      "cell_type": "code",
      "metadata": {
        "id": "mtcbdKTUpxJX",
        "colab": {
          "base_uri": "https://localhost:8080/",
          "height": 34
        },
        "outputId": "4db4a468-31af-48ce-8538-76775b59392a"
      },
      "source": [
        "#We can also use arguments for formatting as below\n",
        "print('Hello {name}, {greeting}!!!'.format(greeting = 'Good morning', name = 'Nirmal'))"
      ],
      "execution_count": null,
      "outputs": [
        {
          "output_type": "stream",
          "text": [
            "Hello Nirmal, Good morning!!!\n"
          ],
          "name": "stdout"
        }
      ]
    },
    {
      "cell_type": "code",
      "metadata": {
        "id": "gq1zB1-jqoZ6",
        "colab": {
          "base_uri": "https://localhost:8080/",
          "height": 52
        },
        "outputId": "44a42ad7-c7cc-46a8-ea61-194da8a35b03"
      },
      "source": [
        "#Formatting Numerical value like printf function in C Programming\n",
        "a=100\n",
        "b=3\n",
        "div = a/b\n",
        "prod = a * b\n",
        "print('The value of div is', div)\n",
        "print('The value of div is %0.2f and the value of prod is %d' %(div, prod))"
      ],
      "execution_count": null,
      "outputs": [
        {
          "output_type": "stream",
          "text": [
            "The value of div is 33.333333333333336\n",
            "The value of div is 33.33 and the value of prod is 300\n"
          ],
          "name": "stdout"
        }
      ]
    },
    {
      "cell_type": "markdown",
      "metadata": {
        "id": "GhxV3bEmr0bz"
      },
      "source": [
        "Let's try some input functionalities now:"
      ]
    },
    {
      "cell_type": "code",
      "metadata": {
        "id": "BWznhcuuq_Vv",
        "colab": {
          "base_uri": "https://localhost:8080/",
          "height": 54
        },
        "outputId": "c8dda057-3153-406f-e07c-83fd4c749fe5"
      },
      "source": [
        "input(\"Enter a number:\")"
      ],
      "execution_count": null,
      "outputs": [
        {
          "output_type": "stream",
          "text": [
            "Enter a number:10\n"
          ],
          "name": "stdout"
        },
        {
          "output_type": "execute_result",
          "data": {
            "text/plain": [
              "'10'"
            ]
          },
          "metadata": {
            "tags": []
          },
          "execution_count": 36
        }
      ]
    },
    {
      "cell_type": "code",
      "metadata": {
        "id": "JEcx2v9fr7rK",
        "colab": {
          "base_uri": "https://localhost:8080/",
          "height": 91
        },
        "outputId": "1e7bbc60-2f49-413f-a657-a4ac3d5ba014"
      },
      "source": [
        "name = input(\"What's your name? \")\n",
        "print(\"Nice to meet you \" + name + \"!\")\n",
        "age = input(\"Your age? \")\n",
        "print(\"So, you are already \" + str(age) + \" years old, \" + name + \"!\")"
      ],
      "execution_count": null,
      "outputs": [
        {
          "output_type": "stream",
          "text": [
            "What's your name? Rajan Adhikari\n",
            "Nice to meet you Rajan Adhikari!\n",
            "Your age? 29\n",
            "So, you are already 29 years old, Rajan Adhikari!\n"
          ],
          "name": "stdout"
        }
      ]
    },
    {
      "cell_type": "markdown",
      "metadata": {
        "id": "xmysYCCguesL"
      },
      "source": [
        "**Exercise**\n",
        "- Can you take integer and float user input? Write a program to show this.\n"
      ]
    }
  ]
}