{
  "nbformat": 4,
  "nbformat_minor": 0,
  "metadata": {
    "colab": {
      "provenance": []
    },
    "kernelspec": {
      "name": "python3",
      "display_name": "Python 3"
    }
  },
  "cells": [
    {
      "cell_type": "markdown",
      "metadata": {
        "id": "AZkVi-5s43h_"
      },
      "source": [
        "Python has a built-in string class named \"str\" with many handy features. \n",
        "\n",
        "- String literals can be enclosed by either double or single quotes, although single quotes are more commonly used.\n",
        "\n",
        "```\n",
        "greet1 = 'Hello World!!!'\n",
        "greet2 = \"Hello World!!!\"\n",
        "```\n",
        "\n",
        "-  double quoted string literal can contain single quotes without any fuss and likewise single quoted string can contain double quotes.\n",
        "\n",
        "```\n",
        "dial1 - \"She Said, 'Yubaraj is a handsome guy'\"\n",
        "dial2 - 'He Said, \"Yubaraj is a very nice guy\"'\n",
        "```\n",
        "\n",
        "- Python strings are \"immutable\" which means they cannot be changed after they are created.\n",
        "\n",
        "- Characters in a string can be accessed using the standard [ ] syntax, and like Java and C++, Python uses zero-based indexing, so if s is 'hello' s[1] is 'e'. \n",
        "\n",
        "- Python newbie gotcha: don't use \"len\" as a variable name to avoid blocking out the len() function.\n",
        "\n",
        "- The '+' operator can concatenate two strings.\n",
        "\n",
        "```\n",
        "'Good' + 'Morning' + '!!!'\n",
        "```"
      ]
    },
    {
      "cell_type": "code",
      "metadata": {
        "id": "8KjEnnQC-5uu",
        "colab": {
          "base_uri": "https://localhost:8080/",
          "height": 35
        },
        "outputId": "b3d7ca85-3191-4867-b83b-3339b4265e11"
      },
      "source": [
        "# Strings can be accessed like as array\n",
        "country = 'Nepal'\n",
        "country[1]"
      ],
      "execution_count": null,
      "outputs": [
        {
          "output_type": "execute_result",
          "data": {
            "application/vnd.google.colaboratory.intrinsic": {
              "type": "string"
            },
            "text/plain": [
              "'e'"
            ]
          },
          "metadata": {
            "tags": []
          },
          "execution_count": 8
        }
      ]
    },
    {
      "cell_type": "code",
      "metadata": {
        "id": "XpjByh2p_VdC",
        "colab": {
          "base_uri": "https://localhost:8080/",
          "height": 101
        },
        "outputId": "325dd3d4-d764-4e25-f774-07c7b358b51f"
      },
      "source": [
        "#Thus, we can do this,\n",
        "for i in range(len(country)):\n",
        "  print(country[i])"
      ],
      "execution_count": null,
      "outputs": [
        {
          "output_type": "stream",
          "text": [
            "N\n",
            "e\n",
            "p\n",
            "a\n",
            "l\n"
          ],
          "name": "stdout"
        }
      ]
    },
    {
      "cell_type": "code",
      "metadata": {
        "id": "Omi6p8GNqUzv",
        "colab": {
          "base_uri": "https://localhost:8080/",
          "height": 212
        },
        "outputId": "a60c418a-6505-4481-fdae-fa3883ffe9c1"
      },
      "source": [
        "# Strings can be overwritten but can't be updated.\n",
        "college = 'Texas Intermational College'\n",
        "college[11] = 'n'\n",
        "college"
      ],
      "execution_count": null,
      "outputs": [
        {
          "output_type": "error",
          "ename": "TypeError",
          "evalue": "ignored",
          "traceback": [
            "\u001b[0;31m---------------------------------------------------------------------------\u001b[0m",
            "\u001b[0;31mTypeError\u001b[0m                                 Traceback (most recent call last)",
            "\u001b[0;32m<ipython-input-10-cf8220651b8c>\u001b[0m in \u001b[0;36m<module>\u001b[0;34m()\u001b[0m\n\u001b[1;32m      1\u001b[0m \u001b[0;31m# Strings can be overwritten but can't be updated.\u001b[0m\u001b[0;34m\u001b[0m\u001b[0;34m\u001b[0m\u001b[0;34m\u001b[0m\u001b[0m\n\u001b[1;32m      2\u001b[0m \u001b[0mcollege\u001b[0m \u001b[0;34m=\u001b[0m \u001b[0;34m'Texas Intermational College'\u001b[0m\u001b[0;34m\u001b[0m\u001b[0;34m\u001b[0m\u001b[0m\n\u001b[0;32m----> 3\u001b[0;31m \u001b[0mcollege\u001b[0m\u001b[0;34m[\u001b[0m\u001b[0;36m11\u001b[0m\u001b[0;34m]\u001b[0m \u001b[0;34m=\u001b[0m \u001b[0;34m'n'\u001b[0m\u001b[0;34m\u001b[0m\u001b[0;34m\u001b[0m\u001b[0m\n\u001b[0m\u001b[1;32m      4\u001b[0m \u001b[0mcollege\u001b[0m\u001b[0;34m\u001b[0m\u001b[0;34m\u001b[0m\u001b[0m\n",
            "\u001b[0;31mTypeError\u001b[0m: 'str' object does not support item assignment"
          ]
        }
      ]
    },
    {
      "cell_type": "code",
      "metadata": {
        "id": "riPtvHDB_tR-",
        "colab": {
          "base_uri": "https://localhost:8080/",
          "height": 50
        },
        "outputId": "2f2b3d8c-af9d-44e2-bf23-d5f497919a5c"
      },
      "source": [
        "#But this works\n",
        "college = \"Texas International College\"\n",
        "print(len(college))\n",
        "print(college)"
      ],
      "execution_count": null,
      "outputs": [
        {
          "output_type": "stream",
          "text": [
            "27\n",
            "Texas International College\n"
          ],
          "name": "stdout"
        }
      ]
    },
    {
      "cell_type": "code",
      "metadata": {
        "id": "W3CKi4vKADy9",
        "colab": {
          "base_uri": "https://localhost:8080/",
          "height": 34
        },
        "outputId": "86618f57-7282-42dd-946c-52f13213de72"
      },
      "source": [
        "#We can also access python string by passing range to get substring\n",
        "print(college[6:19])"
      ],
      "execution_count": null,
      "outputs": [
        {
          "output_type": "stream",
          "text": [
            "International\n"
          ],
          "name": "stdout"
        }
      ]
    },
    {
      "cell_type": "code",
      "metadata": {
        "id": "PvFEWpgEAOdF",
        "colab": {
          "base_uri": "https://localhost:8080/",
          "height": 34
        },
        "outputId": "b6b439d7-d0c1-43ab-f0d6-5904db33db54"
      },
      "source": [
        "#What about this?\n",
        "print(college[:6] + college[20:] + \" of Management and IT\")"
      ],
      "execution_count": null,
      "outputs": [
        {
          "output_type": "stream",
          "text": [
            "Texas College of Management and IT\n"
          ],
          "name": "stdout"
        }
      ]
    },
    {
      "cell_type": "markdown",
      "metadata": {
        "id": "1uD-9KILFkXf"
      },
      "source": [
        "String Operators in Python"
      ]
    },
    {
      "cell_type": "code",
      "metadata": {
        "id": "L2bbt4BrFjvP"
      },
      "source": [
        "# + operator\n",
        "\"Good \" + \"Morning!!!\""
      ],
      "execution_count": null,
      "outputs": []
    },
    {
      "cell_type": "code",
      "metadata": {
        "id": "bif1aOVhA66R"
      },
      "source": [
        "# * operator\n",
        "\n",
        "\"morning \" * 2"
      ],
      "execution_count": null,
      "outputs": []
    },
    {
      "cell_type": "code",
      "metadata": {
        "id": "8e8FEJ56F4nY"
      },
      "source": [
        "#slicer operator\n",
        "\n",
        "college[:5]"
      ],
      "execution_count": null,
      "outputs": []
    },
    {
      "cell_type": "code",
      "metadata": {
        "id": "gPkLFHWGF_ai",
        "colab": {
          "base_uri": "https://localhost:8080/",
          "height": 34
        },
        "outputId": "8fb38380-3d8c-490e-8bf7-039fd04fbda5"
      },
      "source": [
        "# in operator\n",
        "\n",
        "'Inter' in college"
      ],
      "execution_count": null,
      "outputs": [
        {
          "output_type": "execute_result",
          "data": {
            "text/plain": [
              "True"
            ]
          },
          "metadata": {
            "tags": []
          },
          "execution_count": 20
        }
      ]
    },
    {
      "cell_type": "code",
      "metadata": {
        "id": "2Mli8uJgGPRb"
      },
      "source": [
        "# Not in Operator\n",
        "'z' not in college"
      ],
      "execution_count": null,
      "outputs": []
    },
    {
      "cell_type": "code",
      "metadata": {
        "id": "SwaflAgfGVMj",
        "colab": {
          "base_uri": "https://localhost:8080/",
          "height": 67
        },
        "outputId": "bae31ba0-a710-4075-ce72-5dc9b4055310"
      },
      "source": [
        "# Raw string\n",
        "print(r'Hello\\nClass')\n",
        "print('Hello\\nClass')"
      ],
      "execution_count": null,
      "outputs": [
        {
          "output_type": "stream",
          "text": [
            "Hello\\nClass\n",
            "Hello\n",
            "Class\n"
          ],
          "name": "stdout"
        }
      ]
    },
    {
      "cell_type": "code",
      "metadata": {
        "id": "nLXxhBSGGiDT",
        "colab": {
          "base_uri": "https://localhost:8080/",
          "height": 34
        },
        "outputId": "324d7d55-93fe-4a86-ce05-7298e218823b"
      },
      "source": [
        "# % operator\n",
        "print('I study in %s.'%college)"
      ],
      "execution_count": null,
      "outputs": [
        {
          "output_type": "stream",
          "text": [
            "I study in Texas International College.\n"
          ],
          "name": "stdout"
        }
      ]
    },
    {
      "cell_type": "markdown",
      "metadata": {
        "id": "5UuhcGiPHrL-"
      },
      "source": [
        "Python does not have a distinct character type. In Python, a character is a string of length\n",
        "\n",
        "You can use the ord() and chr() built­in functions to convert from character to integer and back."
      ]
    },
    {
      "cell_type": "code",
      "metadata": {
        "id": "yHzlh9pKHzZy",
        "colab": {
          "base_uri": "https://localhost:8080/",
          "height": 34
        },
        "outputId": "0a17fcbc-92f9-4d7e-8876-7b179bf63ad3"
      },
      "source": [
        "#Converting Character to Integer\n",
        "alphabet = \"a\"\n",
        "ord(alphabet)"
      ],
      "execution_count": null,
      "outputs": [
        {
          "output_type": "execute_result",
          "data": {
            "text/plain": [
              "97"
            ]
          },
          "metadata": {
            "tags": []
          },
          "execution_count": 23
        }
      ]
    },
    {
      "cell_type": "code",
      "metadata": {
        "id": "6VINM4HuIfiW",
        "colab": {
          "base_uri": "https://localhost:8080/",
          "height": 35
        },
        "outputId": "0d8eaaae-9d69-4946-c036-b703d94384ad"
      },
      "source": [
        "A_alphabet = 65\n",
        "chr(A_alphabet)"
      ],
      "execution_count": null,
      "outputs": [
        {
          "output_type": "execute_result",
          "data": {
            "application/vnd.google.colaboratory.intrinsic": {
              "type": "string"
            },
            "text/plain": [
              "'A'"
            ]
          },
          "metadata": {
            "tags": []
          },
          "execution_count": 24
        }
      ]
    },
    {
      "cell_type": "markdown",
      "metadata": {
        "id": "rsxcoMgnL8HY"
      },
      "source": [
        "# Methods"
      ]
    },
    {
      "cell_type": "markdown",
      "metadata": {
        "id": "f6ukIwBjKTfi"
      },
      "source": [
        "lower() and upper() method transform the string to lower case and upper case."
      ]
    },
    {
      "cell_type": "code",
      "metadata": {
        "id": "FvdlUM38KSPp"
      },
      "source": [
        "print(college.lower())\n",
        "print(college.upper())"
      ],
      "execution_count": null,
      "outputs": []
    },
    {
      "cell_type": "markdown",
      "metadata": {
        "id": "o-ns2PwHL194"
      },
      "source": [
        "startswith('other'), endswith('other') -- tests if the string starts or ends with the given other string"
      ]
    },
    {
      "cell_type": "code",
      "metadata": {
        "id": "nT0k31xWL3vd"
      },
      "source": [
        "college.startswith('Texas')"
      ],
      "execution_count": null,
      "outputs": []
    },
    {
      "cell_type": "code",
      "metadata": {
        "id": "c26mSUg2MGbC"
      },
      "source": [
        "college.endswith('IT')"
      ],
      "execution_count": null,
      "outputs": []
    },
    {
      "cell_type": "markdown",
      "metadata": {
        "id": "PJT6WVpZMM0x"
      },
      "source": [
        "find('other') searches for the given other string (not a regular expression) within s, and returns the first index where it begins or -1 if not found"
      ]
    },
    {
      "cell_type": "code",
      "metadata": {
        "id": "mo5_OL5eMMY5"
      },
      "source": [
        "college.find('International')"
      ],
      "execution_count": null,
      "outputs": []
    },
    {
      "cell_type": "code",
      "metadata": {
        "id": "e1gIJc0iMpui"
      },
      "source": [
        "college.find('t')"
      ],
      "execution_count": null,
      "outputs": []
    },
    {
      "cell_type": "code",
      "metadata": {
        "id": "bL_mhGxWMwFM"
      },
      "source": [
        "college.find('y')"
      ],
      "execution_count": null,
      "outputs": []
    },
    {
      "cell_type": "markdown",
      "metadata": {
        "id": "AYxJJWujMx5M"
      },
      "source": [
        "s.replace('old', 'new') returns a string where all occurrences of 'old' have been replaced by 'new'.\n",
        "\n"
      ]
    },
    {
      "cell_type": "code",
      "metadata": {
        "id": "pLkKgp9bM3XP"
      },
      "source": [
        "college.replace('International', 'Intl.')"
      ],
      "execution_count": null,
      "outputs": []
    },
    {
      "cell_type": "markdown",
      "metadata": {
        "id": "kvz0WGk1NF0R"
      },
      "source": [
        "s.split('delim') -- returns a list of substrings separated by the given delimiter."
      ]
    },
    {
      "cell_type": "code",
      "metadata": {
        "id": "gEmY21MlNDCI",
        "colab": {
          "base_uri": "https://localhost:8080/"
        },
        "outputId": "e597c84d-e114-4ed5-c4db-3c019114b3bb"
      },
      "source": [
        "#CSV split\n",
        "value = '10,20,30'\n",
        "value.split(',')"
      ],
      "execution_count": null,
      "outputs": [
        {
          "output_type": "execute_result",
          "data": {
            "text/plain": [
              "['10', '20', '30']"
            ]
          },
          "metadata": {},
          "execution_count": 1
        }
      ]
    },
    {
      "cell_type": "markdown",
      "metadata": {
        "id": "7x_q52T2NnKF"
      },
      "source": [
        "s.join(list) -- opposite of split(), joins the elements in the given list together using the string as the delimiter."
      ]
    },
    {
      "cell_type": "code",
      "metadata": {
        "id": "RZR-cpyKNppW",
        "colab": {
          "base_uri": "https://localhost:8080/",
          "height": 37
        },
        "outputId": "fe4f87a8-9da0-4c81-a56f-6ca4b45256c8"
      },
      "source": [
        "value.join(['aaa', 'bbb', 'ccc']) "
      ],
      "execution_count": null,
      "outputs": [
        {
          "output_type": "execute_result",
          "data": {
            "text/plain": [
              "'aaa10,20,30bbb10,20,30ccc'"
            ],
            "application/vnd.google.colaboratory.intrinsic+json": {
              "type": "string"
            }
          },
          "metadata": {},
          "execution_count": 2
        }
      ]
    },
    {
      "cell_type": "markdown",
      "metadata": {
        "id": "g0CO0Hwln7dR"
      },
      "source": [
        "isalpha(), isdigit(), isspace(), isdecimal(), isalnum() tests if all the string chars are in the various character classes"
      ]
    },
    {
      "cell_type": "code",
      "metadata": {
        "id": "zg5D4B--oF9y",
        "colab": {
          "base_uri": "https://localhost:8080/",
          "height": 198
        },
        "outputId": "52ef7821-d622-4635-8cf4-59b765a83830"
      },
      "source": [
        "a = 'alpha'\n",
        "b = 2\n",
        "c = \"\"\n",
        "d = \"1\"\n",
        "e = \" \"\n",
        "f = 9.8\n",
        "\n",
        "a.isalpha()\n",
        "d.isdigit()\n",
        "c.isspace()\n",
        "e.isspace()\n",
        "f.isdecimal()"
      ],
      "execution_count": null,
      "outputs": [
        {
          "output_type": "error",
          "ename": "AttributeError",
          "evalue": "ignored",
          "traceback": [
            "\u001b[0;31m---------------------------------------------------------------------------\u001b[0m",
            "\u001b[0;31mAttributeError\u001b[0m                            Traceback (most recent call last)",
            "\u001b[0;32m<ipython-input-3-c986b7561a28>\u001b[0m in \u001b[0;36m<module>\u001b[0;34m\u001b[0m\n\u001b[1;32m     10\u001b[0m \u001b[0mc\u001b[0m\u001b[0;34m.\u001b[0m\u001b[0misspace\u001b[0m\u001b[0;34m(\u001b[0m\u001b[0;34m)\u001b[0m\u001b[0;34m\u001b[0m\u001b[0;34m\u001b[0m\u001b[0m\n\u001b[1;32m     11\u001b[0m \u001b[0me\u001b[0m\u001b[0;34m.\u001b[0m\u001b[0misspace\u001b[0m\u001b[0;34m(\u001b[0m\u001b[0;34m)\u001b[0m\u001b[0;34m\u001b[0m\u001b[0;34m\u001b[0m\u001b[0m\n\u001b[0;32m---> 12\u001b[0;31m \u001b[0mf\u001b[0m\u001b[0;34m.\u001b[0m\u001b[0misdecimal\u001b[0m\u001b[0;34m(\u001b[0m\u001b[0;34m)\u001b[0m\u001b[0;34m\u001b[0m\u001b[0;34m\u001b[0m\u001b[0m\n\u001b[0m",
            "\u001b[0;31mAttributeError\u001b[0m: 'float' object has no attribute 'isdecimal'"
          ]
        }
      ]
    },
    {
      "cell_type": "markdown",
      "metadata": {
        "id": "mxepqx0UoDFm"
      },
      "source": [
        "capitalize() returns a copy of the string with its first character capitalized and the rest lowercased."
      ]
    },
    {
      "cell_type": "code",
      "metadata": {
        "id": "hmjNUojxo5Qs"
      },
      "source": [
        "color = 'yellow'\n",
        "color.capitalize()"
      ],
      "execution_count": null,
      "outputs": []
    },
    {
      "cell_type": "markdown",
      "metadata": {
        "id": "YX6rVdZdpNKC"
      },
      "source": [
        "count(sub[, start[, end]]) returns the number of non-overlapping occurrences of substring sub in the range [start, end]. Optional arguments start and end are interpreted as in slice notation.\n"
      ]
    },
    {
      "cell_type": "code",
      "metadata": {
        "id": "sgdt1B6YpvSh"
      },
      "source": [
        "color.count('o')"
      ],
      "execution_count": null,
      "outputs": []
    },
    {
      "cell_type": "markdown",
      "metadata": {
        "id": "sN-XqjrIppK8"
      },
      "source": [
        "There are so many other methods for strings. Check python documentation.\n",
        "\n",
        "https://docs.python.org/3/library/stdtypes.html#string-methods\n"
      ]
    }
  ]
}