{
  "nbformat": 4,
  "nbformat_minor": 0,
  "metadata": {
    "colab": {
      "provenance": []
    },
    "kernelspec": {
      "name": "python3",
      "display_name": "Python 3"
    }
  },
  "cells": [
    {
      "cell_type": "code",
      "metadata": {
        "id": "fW6iEGMvqPSC",
        "colab": {
          "base_uri": "https://localhost:8080/",
          "height": 34
        },
        "outputId": "ad004705-884b-4e81-ff31-b33bcbf0bd74"
      },
      "source": [
        "student_1 = {'name': \"Mohan Khanal\", 'age': 22, 'level': \"Bachelor\"}\n",
        "type(student_1)"
      ],
      "execution_count": null,
      "outputs": [
        {
          "output_type": "execute_result",
          "data": {
            "text/plain": [
              "dict"
            ]
          },
          "metadata": {
            "tags": []
          },
          "execution_count": 2
        }
      ]
    },
    {
      "cell_type": "markdown",
      "metadata": {
        "id": "CidbqC6IP0Ql"
      },
      "source": [
        "This is the dictionary in python. Dictionary has key and value pair.Each key is connected to a value, and you can use a key to access a value associated with that key. You can have an unlimited number of key-value pairs in a dictionary.\n",
        "\n",
        "Let's print the dictionary we created above."
      ]
    },
    {
      "cell_type": "code",
      "metadata": {
        "id": "KpvvlAFbPn1D",
        "colab": {
          "base_uri": "https://localhost:8080/",
          "height": 34
        },
        "outputId": "50c21042-3d30-4a1d-e8fd-334effed84cd"
      },
      "source": [
        "print(student_1)"
      ],
      "execution_count": null,
      "outputs": [
        {
          "output_type": "stream",
          "text": [
            "{'name': 'Mohan Khanal', 'age': 22, 'level': 'Bachelor'}\n"
          ],
          "name": "stdout"
        }
      ]
    },
    {
      "cell_type": "markdown",
      "metadata": {
        "id": "qGTvhj7KQw9w"
      },
      "source": [
        "We can print the individual value of dictionary with the use of key."
      ]
    },
    {
      "cell_type": "code",
      "metadata": {
        "id": "nvHpaaoGQhlS",
        "colab": {
          "base_uri": "https://localhost:8080/",
          "height": 34
        },
        "outputId": "19e77acd-2503-4e02-8967-c517b45e61dc"
      },
      "source": [
        "#printing the name of student\n",
        "print(student_1['name'])"
      ],
      "execution_count": null,
      "outputs": [
        {
          "output_type": "stream",
          "text": [
            "Mohan Khanal\n"
          ],
          "name": "stdout"
        }
      ]
    },
    {
      "cell_type": "markdown",
      "metadata": {
        "id": "X7-XUtBwSh9x"
      },
      "source": [
        "**Key Value Pairs in Dictionary**\n",
        "\n",
        "Dictionaries are dynamic structures, and you can add new key-value pairs\n",
        "to a dictionary at any time. For example, to add a new key-value pair, you\n",
        "would give the name of the dictionary followed by the new key in square\n",
        "brackets along with the new value.\n",
        "\n"
      ]
    },
    {
      "cell_type": "code",
      "metadata": {
        "id": "6jhVpFK-TC28",
        "colab": {
          "base_uri": "https://localhost:8080/",
          "height": 34
        },
        "outputId": "d5ca19c8-7c4f-4f9b-c349-5708f37dcd3c"
      },
      "source": [
        "student_1['section'] = 'A'\n",
        "student_1['position'] = 10\n",
        "print(student_1)"
      ],
      "execution_count": null,
      "outputs": [
        {
          "output_type": "stream",
          "text": [
            "{'name': 'Mohan Khanal', 'age': 22, 'level': 'Bachelor', 'section': 'A', 'position': 10}\n"
          ],
          "name": "stdout"
        }
      ]
    },
    {
      "cell_type": "markdown",
      "metadata": {
        "id": "GSop0iXVS0xN"
      },
      "source": [
        "Let's create a empty dictionary"
      ]
    },
    {
      "cell_type": "code",
      "metadata": {
        "id": "OfiCzJkXTR-7",
        "colab": {
          "base_uri": "https://localhost:8080/",
          "height": 34
        },
        "outputId": "b419d55c-a02d-44da-ebde-abc52d9af8fc"
      },
      "source": [
        "#We create an empty dictionary and view the type\n",
        "student_2 = {}\n",
        "type(student_2)"
      ],
      "execution_count": null,
      "outputs": [
        {
          "output_type": "execute_result",
          "data": {
            "text/plain": [
              "dict"
            ]
          },
          "metadata": {
            "tags": []
          },
          "execution_count": 3
        }
      ]
    },
    {
      "cell_type": "code",
      "metadata": {
        "id": "mlUE6zRlTZgg"
      },
      "source": [
        "#Adding value to the dictionary\n",
        "student_2['name'] = 'Sahil Shah'\n",
        "student_2['age'] = 2\n",
        "student_2['level'] = 'Bachelor'"
      ],
      "execution_count": null,
      "outputs": []
    },
    {
      "cell_type": "code",
      "metadata": {
        "id": "TVFhEX0LUXlZ",
        "colab": {
          "base_uri": "https://localhost:8080/",
          "height": 34
        },
        "outputId": "0330fc30-c1de-4db1-ff0c-1db33a061863"
      },
      "source": [
        "#Printing the student_2\n",
        "print(student_2)"
      ],
      "execution_count": null,
      "outputs": [
        {
          "output_type": "stream",
          "text": [
            "{'name': 'Sahil Shah', 'age': 2, 'level': 'Bachelor'}\n"
          ],
          "name": "stdout"
        }
      ]
    },
    {
      "cell_type": "markdown",
      "metadata": {
        "id": "6ITWm5LPUh07"
      },
      "source": [
        "We can also modify the content of the dictionary."
      ]
    },
    {
      "cell_type": "code",
      "metadata": {
        "id": "epyOvG8tVGKa",
        "colab": {
          "base_uri": "https://localhost:8080/",
          "height": 34
        },
        "outputId": "64424904-07dc-49cf-c14a-366c85f380e4"
      },
      "source": [
        "#Assigning the new value to the student info\n",
        "student_2['age'] = 23\n",
        "\n",
        "print(student_2)"
      ],
      "execution_count": null,
      "outputs": [
        {
          "output_type": "stream",
          "text": [
            "{'name': 'Sahil Shah', 'age': 23, 'level': 'Bachelor'}\n"
          ],
          "name": "stdout"
        }
      ]
    },
    {
      "cell_type": "markdown",
      "metadata": {
        "id": "e_LFrzO2VoTb"
      },
      "source": [
        "#Looping Through Key Value Pairs"
      ]
    },
    {
      "cell_type": "code",
      "metadata": {
        "id": "ab0IGb_5VY1s",
        "colab": {
          "base_uri": "https://localhost:8080/",
          "height": 85
        },
        "outputId": "2ed2ed03-4c5c-4b95-be98-649cc27eff92"
      },
      "source": [
        "#Creating new dictionary\n",
        "fav_languages = {\n",
        "     'Karishma': 'python'\n",
        "    ,'Bijay': 'Java'\n",
        "    ,'Manoj': 'R'\n",
        "    ,'Upendra': 'C#'\n",
        "}\n",
        "\n",
        "for name, lang in fav_languages.items():\n",
        "  print('Favourite programming language of', name.title() ,'is',lang.title())"
      ],
      "execution_count": null,
      "outputs": [
        {
          "output_type": "stream",
          "text": [
            "Favourite programming language of Karishma is Python\n",
            "Favourite programming language of Bijay is Java\n",
            "Favourite programming language of Manoj is R\n",
            "Favourite programming language of Upendra is C#\n"
          ],
          "name": "stdout"
        }
      ]
    },
    {
      "cell_type": "markdown",
      "metadata": {
        "id": "6TFpFWuxcwJS"
      },
      "source": [
        "# Looping Through keys and Values in Dictionary\n",
        "\n",
        "A dictionary always maintains a clear connection between each key and\n",
        "its associated value, but you never get the items from a dictionary in any\n",
        "predictable order. "
      ]
    },
    {
      "cell_type": "code",
      "metadata": {
        "id": "E95Y77J_dFWv",
        "colab": {
          "base_uri": "https://localhost:8080/",
          "height": 85
        },
        "outputId": "e277e66c-6568-467b-e683-ba571304f733"
      },
      "source": [
        "#Looping through keys\n",
        "for name in fav_languages.keys():\n",
        "  print(name)"
      ],
      "execution_count": null,
      "outputs": [
        {
          "output_type": "stream",
          "text": [
            "Karishma\n",
            "Bijay\n",
            "Manoj\n",
            "Upendra\n"
          ],
          "name": "stdout"
        }
      ]
    },
    {
      "cell_type": "code",
      "metadata": {
        "id": "c12bjPX9dTTs",
        "colab": {
          "base_uri": "https://localhost:8080/",
          "height": 85
        },
        "outputId": "ed357461-5516-4bd1-f470-2ee2bf4fcb5a"
      },
      "source": [
        "#Looping through values\n",
        "for lang in fav_languages.values():\n",
        "  print(lang)"
      ],
      "execution_count": null,
      "outputs": [
        {
          "output_type": "stream",
          "text": [
            "python\n",
            "Java\n",
            "R\n",
            "C#\n"
          ],
          "name": "stdout"
        }
      ]
    },
    {
      "cell_type": "markdown",
      "metadata": {
        "id": "t5_w9o3UdtIu"
      },
      "source": [
        "#Nesting of dictionary\n",
        "\n",
        "You can nest a set of dictionaries inside a list, a list of items inside a dictionary, or even a dictionary inside another dictionary.\n",
        "\n",
        "**1. Dicitionary in the list**\n",
        "\n",
        "We can create a list of dictionary in python. "
      ]
    },
    {
      "cell_type": "code",
      "metadata": {
        "id": "oXaUeoOZd_xN",
        "colab": {
          "base_uri": "https://localhost:8080/",
          "height": 34
        },
        "outputId": "5bc7787b-b33b-493f-c23a-bb59402c8f46"
      },
      "source": [
        "alien_0 = {'color': 'green', 'points': 5}\n",
        "alien_1 = {'color': 'yellow', 'points': 10}\n",
        "alien_2 = {'color': 'red', 'points': 15}\n",
        "\n",
        "# Creating the list of aliens\n",
        "aliens = [alien_0, alien_1, alien_2]\n",
        "print(aliens)"
      ],
      "execution_count": null,
      "outputs": [
        {
          "output_type": "stream",
          "text": [
            "[{'color': 'green', 'points': 5}, {'color': 'yellow', 'points': 10}, {'color': 'red', 'points': 15}]\n"
          ],
          "name": "stdout"
        }
      ]
    },
    {
      "cell_type": "code",
      "metadata": {
        "id": "6EBpOM_MejMC",
        "colab": {
          "base_uri": "https://localhost:8080/",
          "height": 68
        },
        "outputId": "e9b72c2c-60cd-4159-ecc2-8414a718c489"
      },
      "source": [
        "for alien in aliens:\n",
        "  print(alien)"
      ],
      "execution_count": null,
      "outputs": [
        {
          "output_type": "stream",
          "text": [
            "{'color': 'green', 'points': 5}\n",
            "{'color': 'yellow', 'points': 10}\n",
            "{'color': 'red', 'points': 15}\n"
          ],
          "name": "stdout"
        }
      ]
    },
    {
      "cell_type": "markdown",
      "metadata": {
        "id": "mvIE6aLsegWl"
      },
      "source": [
        "**2. List in the dictionary:**\n",
        "\n",
        "Rather than putting a dictionary inside a list, it’s sometimes useful to put a list inside a dictionary. \n",
        "\n"
      ]
    },
    {
      "cell_type": "code",
      "metadata": {
        "id": "QWKwc_6qhAhK",
        "colab": {
          "base_uri": "https://localhost:8080/",
          "height": 34
        },
        "outputId": "991da68f-15d9-421f-97b7-1edfe918dbbf"
      },
      "source": [
        "fav_languages = {\n",
        "     'Karishma': ['python']\n",
        "    ,'Bijay': ['Java']\n",
        "    ,'Manoj': 'R'\n",
        "    ,'Upendra': ['C#', 'ASP .NET']\n",
        "    ,'Shreeva': ['PHP', 'HTML', 'CSS']\n",
        "}\n",
        "\n",
        "print(fav_languages)"
      ],
      "execution_count": null,
      "outputs": [
        {
          "output_type": "stream",
          "text": [
            "{'Karishma': ['python'], 'Bijay': ['Java'], 'Manoj': 'R', 'Upendra': ['C#', 'ASP .NET'], 'Shreeva': ['PHP', 'HTML', 'CSS']}\n"
          ],
          "name": "stdout"
        }
      ]
    },
    {
      "cell_type": "code",
      "metadata": {
        "id": "D_4-RsOYheVK",
        "colab": {
          "base_uri": "https://localhost:8080/",
          "height": 408
        },
        "outputId": "437f99aa-a797-46dd-a710-14ef5f2bb66a"
      },
      "source": [
        "for name, languages in fav_languages.items():\n",
        "  print(\"Favourite languages of\",name,'are :')\n",
        "  for lang in languages:\n",
        "    print(lang.title())\n",
        "  print(\"\\n\")"
      ],
      "execution_count": null,
      "outputs": [
        {
          "output_type": "stream",
          "text": [
            "Favourite languages of Karishma are :\n",
            "Python\n",
            "\n",
            "\n",
            "Favourite languages of Bijay are :\n",
            "Java\n",
            "\n",
            "\n",
            "Favourite languages of Manoj are :\n",
            "R\n",
            "\n",
            "\n",
            "Favourite languages of Upendra are :\n",
            "C#\n",
            "Asp .Net\n",
            "\n",
            "\n",
            "Favourite languages of Shreeva are :\n",
            "Php\n",
            "Html\n",
            "Css\n",
            "\n",
            "\n"
          ],
          "name": "stdout"
        }
      ]
    },
    {
      "cell_type": "markdown",
      "metadata": {
        "id": "ce2OrWnBoGXX"
      },
      "source": [
        "**3. Dictionary in Dictionary**\n",
        "\n"
      ]
    },
    {
      "cell_type": "code",
      "metadata": {
        "id": "mrzHRxKWkPI1",
        "colab": {
          "base_uri": "https://localhost:8080/",
          "height": 34
        },
        "outputId": "e4b9e683-551a-4dae-9af0-b2ff271b5d74"
      },
      "source": [
        "# creating dictionary within dictionary\n",
        "Students = {'student_1': {'name': 'Harish', 'age': 27, 'gender': 'Male'},\n",
        "          'student_2': {'name': 'Binod', 'age': 22, 'gender': 'male'},\n",
        "          'student_3': {'name': 'Karina', 'age': 24, 'gender': 'Female'},\n",
        "          'student_4': {'name': 'Lina', 'age': 29, 'gender': 'Male'}}\n",
        "\n",
        "type(Students)"
      ],
      "execution_count": null,
      "outputs": [
        {
          "output_type": "execute_result",
          "data": {
            "text/plain": [
              "dict"
            ]
          },
          "metadata": {
            "tags": []
          },
          "execution_count": 9
        }
      ]
    },
    {
      "cell_type": "code",
      "metadata": {
        "id": "iliMPJtRk5of",
        "colab": {
          "base_uri": "https://localhost:8080/",
          "height": 353
        },
        "outputId": "9ee5cbd8-bcc4-4b0c-c905-55df9513d127"
      },
      "source": [
        "#Retreiving information from dictionary\n",
        "for student,details in Students.items():\n",
        "  #print(details)\n",
        "  for key, value in details.items():\n",
        "      print(key,':', value)\n",
        "  print('\\n')"
      ],
      "execution_count": null,
      "outputs": [
        {
          "output_type": "stream",
          "text": [
            "name : Harish\n",
            "age : 27\n",
            "gender : Male\n",
            "\n",
            "\n",
            "name : Binod\n",
            "age : 22\n",
            "gender : male\n",
            "\n",
            "\n",
            "name : Karina\n",
            "age : 24\n",
            "gender : Female\n",
            "\n",
            "\n",
            "name : Lina\n",
            "age : 29\n",
            "gender : Male\n",
            "\n",
            "\n"
          ],
          "name": "stdout"
        }
      ]
    },
    {
      "cell_type": "code",
      "metadata": {
        "id": "DxauHHqemhgj",
        "colab": {
          "base_uri": "https://localhost:8080/",
          "height": 353
        },
        "outputId": "767621ad-a1be-48da-a490-d09377860835"
      },
      "source": [
        "# Let's go more deeper\n",
        "for student, student_info in Students.items():\n",
        "  print(student_info['name'])\n",
        "  print(student_info['age'])\n",
        "  print(student_info['gender'])\n",
        "  print('\\n')"
      ],
      "execution_count": null,
      "outputs": [
        {
          "output_type": "stream",
          "text": [
            "Harish\n",
            "27\n",
            "Male\n",
            "\n",
            "\n",
            "Binod\n",
            "22\n",
            "male\n",
            "\n",
            "\n",
            "Karina\n",
            "24\n",
            "Female\n",
            "\n",
            "\n",
            "Lina\n",
            "29\n",
            "Male\n",
            "\n",
            "\n"
          ],
          "name": "stdout"
        }
      ]
    },
    {
      "cell_type": "markdown",
      "metadata": {
        "id": "XGzbgWckoWdk"
      },
      "source": [
        "We can also use nested loop to extract information."
      ]
    },
    {
      "cell_type": "code",
      "metadata": {
        "id": "HIL6pMp-ob70",
        "colab": {
          "base_uri": "https://localhost:8080/",
          "height": 353
        },
        "outputId": "73208534-8702-4ebd-be17-a7a8775e7a91"
      },
      "source": [
        "for student, student_info in Students.items():\n",
        "  dict(student_info)\n",
        "  for name, value in student_info.items():\n",
        "    print(name,':', value)\n",
        "  print('\\n')"
      ],
      "execution_count": null,
      "outputs": [
        {
          "output_type": "stream",
          "text": [
            "name : Harish\n",
            "age : 27\n",
            "gender : Male\n",
            "\n",
            "\n",
            "name : Binod\n",
            "age : 22\n",
            "gender : male\n",
            "\n",
            "\n",
            "name : Karina\n",
            "age : 24\n",
            "gender : Female\n",
            "\n",
            "\n",
            "name : Lina\n",
            "age : 29\n",
            "gender : Male\n",
            "\n",
            "\n"
          ],
          "name": "stdout"
        }
      ]
    },
    {
      "cell_type": "code",
      "metadata": {
        "id": "fmCLCZZAtZNO"
      },
      "source": [],
      "execution_count": null,
      "outputs": []
    },
    {
      "cell_type": "markdown",
      "metadata": {
        "id": "gz_21YrQr7Pt"
      },
      "source": [
        "**Removing items from Dictionary**\n",
        "\n",
        "The pop() method removes the item with the specified key name."
      ]
    },
    {
      "cell_type": "code",
      "metadata": {
        "id": "XvV0LIxpoVQq",
        "colab": {
          "base_uri": "https://localhost:8080/",
          "height": 68
        },
        "outputId": "1d89e8bb-8dcd-4055-d314-f4a6681a8066"
      },
      "source": [
        "Students.pop('student_4')\n",
        "#Retreiving information from menu dictionary\n",
        "for student in Students.items():\n",
        "  print(student)"
      ],
      "execution_count": null,
      "outputs": [
        {
          "output_type": "stream",
          "text": [
            "('student_1', {'name': 'Harish', 'age': 27, 'gender': 'Male'})\n",
            "('student_2', {'name': 'Binod', 'age': 22, 'gender': 'Female'})\n",
            "('student_3', {'name': 'Karina', 'age': 24, 'gender': 'Female'})\n"
          ],
          "name": "stdout"
        }
      ]
    }
  ]
}