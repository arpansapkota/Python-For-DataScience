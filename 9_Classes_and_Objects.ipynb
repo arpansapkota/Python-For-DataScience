{
  "nbformat": 4,
  "nbformat_minor": 0,
  "metadata": {
    "colab": {
      "provenance": []
    },
    "kernelspec": {
      "name": "python3",
      "display_name": "Python 3"
    }
  },
  "cells": [
    {
      "cell_type": "markdown",
      "metadata": {
        "id": "gv00B8pICoyZ"
      },
      "source": [
        "#Classes and Objects\n",
        "\n",
        "Python is an object oriented programming language.\n",
        "\n",
        "In object-oriented programming you write classes that represent real-world things and situations, and you create objects based on these classes.\n",
        "\n",
        "A class is a blueprint for creating objects. Objects have member variables and have behaviour associated with them. In python a class is created by the keyword ***class***."
      ]
    },
    {
      "cell_type": "code",
      "metadata": {
        "id": "b9SuxvzoDYR6"
      },
      "source": [
        "#Creating a class for Student\n",
        "\n",
        "class Student():\n",
        "  \"\"\"\n",
        "  Student Class is to model student object. \n",
        "  \"\"\"\n",
        "\n",
        "  def __init__(self, name, level, roll_no):\n",
        "    \"\"\"Initialize the name, class and roll number of student\"\"\"\n",
        "    self.name = name\n",
        "    self.level = level\n",
        "    self.roll_no = roll_no"
      ],
      "execution_count": null,
      "outputs": []
    },
    {
      "cell_type": "markdown",
      "metadata": {
        "id": "njZVnJy9EYks"
      },
      "source": [
        "Defination of Class alone is not enough in program to work. We must create object of class and define corresponding object of class called instantiation."
      ]
    },
    {
      "cell_type": "code",
      "metadata": {
        "id": "lgMvIQ2aEjBQ",
        "colab": {
          "base_uri": "https://localhost:8080/",
          "height": 212
        },
        "outputId": "735a3cbc-225d-41c2-9c67-63c8f51caf61"
      },
      "source": [
        "#Creating student_22\n",
        "student_22 = Student(\"Manoj\", \"Bachelor\", 22)\n",
        "\n",
        "#Accessing the object\n",
        "print(\"My student name is\", student_22.name,\". He is studying in\",student_22.level,\". And His roll number in class is\",student_22.roll_no,\".\")"
      ],
      "execution_count": null,
      "outputs": [
        {
          "output_type": "stream",
          "text": [
            "My student name is Manoj . He is studying in Bachelor . And His roll number in class is 22 .\n"
          ],
          "name": "stdout"
        },
        {
          "output_type": "error",
          "ename": "AttributeError",
          "evalue": "ignored",
          "traceback": [
            "\u001b[0;31m---------------------------------------------------------------------------\u001b[0m",
            "\u001b[0;31mAttributeError\u001b[0m                            Traceback (most recent call last)",
            "\u001b[0;32m<ipython-input-19-b0d919b37656>\u001b[0m in \u001b[0;36m<module>\u001b[0;34m()\u001b[0m\n\u001b[1;32m      4\u001b[0m \u001b[0;31m#Accessing the object\u001b[0m\u001b[0;34m\u001b[0m\u001b[0;34m\u001b[0m\u001b[0;34m\u001b[0m\u001b[0m\n\u001b[1;32m      5\u001b[0m \u001b[0mprint\u001b[0m\u001b[0;34m(\u001b[0m\u001b[0;34m\"My student name is\"\u001b[0m\u001b[0;34m,\u001b[0m \u001b[0mstudent_22\u001b[0m\u001b[0;34m.\u001b[0m\u001b[0mname\u001b[0m\u001b[0;34m,\u001b[0m\u001b[0;34m\". He is studying in\"\u001b[0m\u001b[0;34m,\u001b[0m\u001b[0mstudent_22\u001b[0m\u001b[0;34m.\u001b[0m\u001b[0mlevel\u001b[0m\u001b[0;34m,\u001b[0m\u001b[0;34m\". And His roll number in class is\"\u001b[0m\u001b[0;34m,\u001b[0m\u001b[0mstudent_22\u001b[0m\u001b[0;34m.\u001b[0m\u001b[0mroll_no\u001b[0m\u001b[0;34m,\u001b[0m\u001b[0;34m\".\"\u001b[0m\u001b[0;34m)\u001b[0m\u001b[0;34m\u001b[0m\u001b[0;34m\u001b[0m\u001b[0m\n\u001b[0;32m----> 6\u001b[0;31m \u001b[0mprint\u001b[0m\u001b[0;34m(\u001b[0m\u001b[0mstudent_22\u001b[0m\u001b[0;34m.\u001b[0m\u001b[0m__database_id\u001b[0m\u001b[0;34m)\u001b[0m\u001b[0;34m\u001b[0m\u001b[0;34m\u001b[0m\u001b[0m\n\u001b[0m",
            "\u001b[0;31mAttributeError\u001b[0m: 'Student' object has no attribute '__database_id'"
          ]
        }
      ]
    },
    {
      "cell_type": "markdown",
      "metadata": {
        "id": "0DP4zr_sFdKp"
      },
      "source": [
        "Let's understand the class and object now.\n",
        "\n",
        "- We declared class using class keyword.\n",
        "\n",
        "- __init__  is a method used int the class. This is similar to function but called method and is a very special method known as constructor.\n",
        "- constructor are executed automatically while when we create new instance of class.\n",
        "\n",
        "- init has two leading underscore (_) and two trailing underscore. This is convention to create constructor in python.\n",
        "\n",
        "- init has four parameters: self, name, level and roll_no.\n",
        "\n",
        "- The self parameter is required in the method definition, and it must come first before the other parameters. It must be included in the definition because when Python calls this __init__() method later (to create an instance of Dog), the method call will automatically pass the self argument\n",
        "\n",
        "- Every method call associated with a class automatically passes self, which is a reference to the instance itself; it gives the individual instance access to the attributes and methods in the class. \n",
        "\n",
        "- self.name = name takes the value stored in the parameter name and stores it in the variable name, which is then attached to the instance being created.\n",
        "\n",
        "- Variables that are accessible through instances like this are called attributes\n",
        "\n",
        "- The __init__() method has no explicit return statement, but Python automatically returns an instance representing this dog. \n",
        "\n",
        "- We can access the an attribtue of object by using dot notation. \n",
        "\n",
        "e.g. student_1.name gives name for student_1.\n",
        "\n",
        "\n",
        "\n",
        "\n"
      ]
    },
    {
      "cell_type": "markdown",
      "metadata": {
        "id": "ltFmaPrfHQWc"
      },
      "source": [
        "Let's expand our class Student to add more functions now."
      ]
    },
    {
      "cell_type": "code",
      "metadata": {
        "id": "VO35ZhiWFR3J"
      },
      "source": [
        "#Creating a class for Student\n",
        "\n",
        "class Student():\n",
        "  \"\"\"\n",
        "  Student Class is to model student object. \n",
        "  \"\"\"\n",
        "\n",
        "  def __init__(self, name, level, roll_no):\n",
        "    \"\"\"Initialize the name, class and roll number of student\"\"\"\n",
        "    self.name = name\n",
        "    self.level = level\n",
        "    self.roll_no = roll_no\n",
        "  \n",
        "  def get_name(self):\n",
        "    return self.name\n",
        "\n",
        "  def get_level(self):\n",
        "    return self.level\n",
        "  \n",
        "  def get_roll_no(self):\n",
        "    return self.roll_no"
      ],
      "execution_count": null,
      "outputs": []
    },
    {
      "cell_type": "code",
      "metadata": {
        "id": "9NyxI73dI4U8",
        "colab": {
          "base_uri": "https://localhost:8080/",
          "height": 34
        },
        "outputId": "dee7556a-924d-433a-eb07-442f46a2c8eb"
      },
      "source": [
        "#Creating student_33\n",
        "student_33 = Student(\"Rojan\", \"Bachelor\", 33)\n",
        "\n",
        "#let's make use of function we have just added in above lines of code\n",
        "print(student_33.get_name(), \"studies in\",student_33.get_level())"
      ],
      "execution_count": null,
      "outputs": [
        {
          "output_type": "stream",
          "text": [
            "Rojan studies in Bachelor\n"
          ],
          "name": "stdout"
        }
      ]
    },
    {
      "cell_type": "markdown",
      "metadata": {
        "id": "RWT3wek3pqOw"
      },
      "source": [
        "Methods\n",
        "Methods are functions defined inside the body of a class. They are used to define the behaviors of an object.\n",
        "\n",
        "In the above program, get_name, get_level are the methods specially known as getters."
      ]
    },
    {
      "cell_type": "markdown",
      "metadata": {
        "id": "HrE67BIHqmrc"
      },
      "source": [
        "#Encapsulation\n",
        "\n",
        "Using OOP in Python, we can restrict access to methods and variables. This prevent data from direct modification which is called encapsulation. In Python, we denote private attribute using underscore as prefix i.e single “ _ “ or double “ __“."
      ]
    },
    {
      "cell_type": "code",
      "metadata": {
        "id": "Qtk598p8qEd6",
        "colab": {
          "base_uri": "https://localhost:8080/",
          "height": 68
        },
        "outputId": "d7c8e22e-22a0-473f-8c95-f29c5db67f48"
      },
      "source": [
        "class Computer:\n",
        "    '''\n",
        "    A class for computer.\n",
        "    '''\n",
        "    def __init__(self):\n",
        "        self.__maxprice = 900\n",
        "\n",
        "    def sell(self):\n",
        "        print(\"Selling Price: {}\".format(self.__maxprice))\n",
        "\n",
        "    def setMaxPrice(self, price):\n",
        "        self.__maxprice = price\n",
        "\n",
        "c = Computer()\n",
        "c.sell()\n",
        "\n",
        "# change the price\n",
        "c.__maxprice = 1000\n",
        "c.sell()\n",
        "\n",
        "# using setter function\n",
        "c.setMaxPrice(1000)\n",
        "c.sell()"
      ],
      "execution_count": null,
      "outputs": [
        {
          "output_type": "stream",
          "text": [
            "Selling Price: 900\n",
            "Selling Price: 900\n",
            "Selling Price: 1000\n"
          ],
          "name": "stdout"
        }
      ]
    },
    {
      "cell_type": "markdown",
      "metadata": {
        "id": "Vs0_svehrHw6"
      },
      "source": [
        "In the above program, we defined a class Computer. We use __init__() method to store the maximum selling price of computer. We tried to modify the price. However, we can’t change it because Python treats the __maxprice as private attributes. To change the value, we used a setter function i.e setMaxPrice() which takes price as parameter.\n",
        "\n",
        "**Exercise:\n",
        "1. Using object oriented approach, make a class for Employee to store information about them.\n",
        "\n",
        "2. Use OOP approach in python to write a class for Department to carry out Department functionality.\n"
      ]
    },
    {
      "cell_type": "markdown",
      "metadata": {
        "id": "MzrmOghKwmGc"
      },
      "source": [
        "#Class Attributes\n",
        "\n"
      ]
    },
    {
      "cell_type": "code",
      "metadata": {
        "id": "1moLWimewouu",
        "colab": {
          "base_uri": "https://localhost:8080/",
          "height": 313
        },
        "outputId": "55056ccb-ecdd-41c5-8eac-f96fa942c8ab"
      },
      "source": [
        "#Creating a class for Student\n",
        "\n",
        "class Student():\n",
        "  \"\"\"\n",
        "  Student Class is to model student object. \n",
        "  \"\"\"\n",
        "\n",
        "  TITLES = ('Dr', 'Mr', 'Mrs', 'Ms')\n",
        "\n",
        "  def __init__(self, title, name, level, roll_no):\n",
        "    \"\"\"Initialize the name, class and roll number of student\"\"\"\n",
        "    if title not in self.TITLES:\n",
        "            raise ValueError(\"%s is not a valid title.\" % title)\n",
        "\n",
        "    self.title = title\n",
        "    self.name = name\n",
        "    self.level = level\n",
        "    self.roll_no = roll_no \n",
        "\n",
        "student_44 = Student(\"ABC\", 'Karina', \"Plus 2\", 44)"
      ],
      "execution_count": null,
      "outputs": [
        {
          "output_type": "error",
          "ename": "ValueError",
          "evalue": "ignored",
          "traceback": [
            "\u001b[0;31m---------------------------------------------------------------------------\u001b[0m",
            "\u001b[0;31mValueError\u001b[0m                                Traceback (most recent call last)",
            "\u001b[0;32m<ipython-input-21-92dd420b53c9>\u001b[0m in \u001b[0;36m<module>\u001b[0;34m()\u001b[0m\n\u001b[1;32m     18\u001b[0m     \u001b[0mself\u001b[0m\u001b[0;34m.\u001b[0m\u001b[0mroll_no\u001b[0m \u001b[0;34m=\u001b[0m \u001b[0mroll_no\u001b[0m\u001b[0;34m\u001b[0m\u001b[0;34m\u001b[0m\u001b[0m\n\u001b[1;32m     19\u001b[0m \u001b[0;34m\u001b[0m\u001b[0m\n\u001b[0;32m---> 20\u001b[0;31m \u001b[0mstudent_44\u001b[0m \u001b[0;34m=\u001b[0m \u001b[0mStudent\u001b[0m\u001b[0;34m(\u001b[0m\u001b[0;34m\"ABC\"\u001b[0m\u001b[0;34m,\u001b[0m \u001b[0;34m'Karina'\u001b[0m\u001b[0;34m,\u001b[0m \u001b[0;34m\"Plus 2\"\u001b[0m\u001b[0;34m,\u001b[0m \u001b[0;36m44\u001b[0m\u001b[0;34m)\u001b[0m\u001b[0;34m\u001b[0m\u001b[0;34m\u001b[0m\u001b[0m\n\u001b[0m",
            "\u001b[0;32m<ipython-input-21-92dd420b53c9>\u001b[0m in \u001b[0;36m__init__\u001b[0;34m(self, title, name, level, roll_no)\u001b[0m\n\u001b[1;32m     11\u001b[0m     \u001b[0;34m\"\"\"Initialize the name, class and roll number of student\"\"\"\u001b[0m\u001b[0;34m\u001b[0m\u001b[0;34m\u001b[0m\u001b[0m\n\u001b[1;32m     12\u001b[0m     \u001b[0;32mif\u001b[0m \u001b[0mtitle\u001b[0m \u001b[0;32mnot\u001b[0m \u001b[0;32min\u001b[0m \u001b[0mself\u001b[0m\u001b[0;34m.\u001b[0m\u001b[0mTITLES\u001b[0m\u001b[0;34m:\u001b[0m\u001b[0;34m\u001b[0m\u001b[0;34m\u001b[0m\u001b[0m\n\u001b[0;32m---> 13\u001b[0;31m             \u001b[0;32mraise\u001b[0m \u001b[0mValueError\u001b[0m\u001b[0;34m(\u001b[0m\u001b[0;34m\"%s is not a valid title.\"\u001b[0m \u001b[0;34m%\u001b[0m \u001b[0mtitle\u001b[0m\u001b[0;34m)\u001b[0m\u001b[0;34m\u001b[0m\u001b[0;34m\u001b[0m\u001b[0m\n\u001b[0m\u001b[1;32m     14\u001b[0m \u001b[0;34m\u001b[0m\u001b[0m\n\u001b[1;32m     15\u001b[0m     \u001b[0mself\u001b[0m\u001b[0;34m.\u001b[0m\u001b[0mtitle\u001b[0m \u001b[0;34m=\u001b[0m \u001b[0mtitle\u001b[0m\u001b[0;34m\u001b[0m\u001b[0;34m\u001b[0m\u001b[0m\n",
            "\u001b[0;31mValueError\u001b[0m: ABC is not a valid title."
          ]
        }
      ]
    },
    {
      "cell_type": "markdown",
      "metadata": {
        "id": "_dx7xOurxa3N"
      },
      "source": [
        "As you can see, we access the class attribute TITLES just like we would access an instance attribute – it is made available as a property on the instance object, which we access inside the method through the self variable."
      ]
    },
    {
      "cell_type": "markdown",
      "metadata": {
        "id": "HqMX3AujxpaT"
      },
      "source": [
        "#Inspecting an Object\n",
        "\n"
      ]
    },
    {
      "cell_type": "code",
      "metadata": {
        "id": "qNDiBmBOxomB",
        "colab": {
          "base_uri": "https://localhost:8080/",
          "height": 54
        },
        "outputId": "01a2c19d-1018-4c70-d378-7f8d5764880b"
      },
      "source": [
        "print(dir(c))"
      ],
      "execution_count": null,
      "outputs": [
        {
          "output_type": "stream",
          "text": [
            "['_Computer__maxprice', '__class__', '__delattr__', '__dict__', '__dir__', '__doc__', '__eq__', '__format__', '__ge__', '__getattribute__', '__gt__', '__hash__', '__init__', '__init_subclass__', '__le__', '__lt__', '__maxprice', '__module__', '__ne__', '__new__', '__reduce__', '__reduce_ex__', '__repr__', '__setattr__', '__sizeof__', '__str__', '__subclasshook__', '__weakref__', 'sell', 'setMaxPrice']\n"
          ],
          "name": "stdout"
        }
      ]
    },
    {
      "cell_type": "markdown",
      "metadata": {
        "id": "bHS3HJ4qyKSe"
      },
      "source": [
        "Now we can see our attributes and our method – but what’s all that other stuff? We will discuss inheritance in the next chapter, but for now all you need to know is that any class that you define has object as its parent class even if you don’t explicitly say so – so your class will have a lot of default attributes and methods that any Python object has.\n",
        "\n",
        "__init__: the initialisation method of an object, which is called when the object is created.\n",
        "\n",
        "__str__: the string representation method of an object, which is called when you use the str function to convert that object to a string.\n",
        "\n",
        "__class__: an attribute which stores the the class (or type) of an object – this is what is returned when you use the type function on the object.\n",
        "\n",
        "__eq__: a method which determines whether this object is equal to another. There are also other methods for determining if it’s not equal, less than, etc.. These methods are used in object comparisons, for example when we use the equality operator == to check if two objects are equal.\n",
        "\n",
        "__add__ is a method which allows this object to be added to another object. There are equivalent methods for all the other arithmetic operators. Not all objects support all arithemtic operations – numbers have all of these methods defined, but other objects may only have a subset.\n",
        "\n",
        "__iter__: a method which returns an iterator over the object – we will find it on strings, lists and other iterables. It is executed when we use the iter function on the object.\n",
        "\n",
        "__len__: a method which calculates the length of an object – we will find it on sequences. It is executed when we use the len function of an object.\n",
        "\n",
        "__dict__: a dictionary which contains all the instance attributes of an object, with their names as keys. It can be useful if we want to iterate over all the attributes of an object. __dict__ does not include any methods, class attributes or special default attributes like __class__."
      ]
    },
    {
      "cell_type": "markdown",
      "metadata": {
        "id": "WiJspJP3yt_b"
      },
      "source": [
        "**Exercise\n",
        "\n",
        "1. Can we modify the attribute value of a class from outside and inside of class? Write a program to show. \n",
        "\n",
        "2. Write a program for logins using oop, where user password attempt should be counted and after 3 failed attempt, error should be shown."
      ]
    },
    {
      "cell_type": "markdown",
      "metadata": {
        "id": "w50cgiU0tEHr"
      },
      "source": [
        "#Polymorphism\n",
        "Polymorphism is an ability (in OOP) to use common interface for multiple form (data types).\n",
        "\n",
        "Suppose, we need to color a shape, there are multiple shape option (rectangle, square, circle). However we could use same method to color any shape. This concept is called Polymorphism."
      ]
    },
    {
      "cell_type": "code",
      "metadata": {
        "id": "ut0562wMq5vI",
        "colab": {
          "base_uri": "https://localhost:8080/",
          "height": 50
        },
        "outputId": "278aa3f6-17d6-475e-da93-c8233b9b2fb1"
      },
      "source": [
        "class Parrot:\n",
        "  '''\n",
        "  A class for Parrot\n",
        "  '''\n",
        "  def fly(self):\n",
        "      print(\"Parrot can fly\")\n",
        "    \n",
        "  def swim(self):\n",
        "      print(\"Parrot can't swim\")\n",
        "\n",
        "class Penguin:\n",
        "  '''\n",
        "  A class for Penguin\n",
        "  '''\n",
        "  def fly(self):\n",
        "        print(\"Penguin can't fly\")\n",
        "    \n",
        "  def swim(self):\n",
        "        print(\"Penguin can swim\")\n",
        "\n",
        "# common interface\n",
        "def flying_test(bird):\n",
        "    bird.fly()\n",
        "\n",
        "#instantiate objects\n",
        "blu = Parrot()\n",
        "peggy = Penguin()\n",
        "\n",
        "# passing the object\n",
        "flying_test(blu)\n",
        "flying_test(peggy)"
      ],
      "execution_count": null,
      "outputs": [
        {
          "output_type": "stream",
          "text": [
            "Parrot can fly\n",
            "Penguin can't fly\n"
          ],
          "name": "stdout"
        }
      ]
    },
    {
      "cell_type": "markdown",
      "metadata": {
        "id": "L6OU1IlFvAPh"
      },
      "source": [
        "There are builtin polymorphism implementations in python.\n"
      ]
    },
    {
      "cell_type": "code",
      "metadata": {
        "id": "yjVnKoyevGyg",
        "colab": {
          "base_uri": "https://localhost:8080/",
          "height": 50
        },
        "outputId": "3efda49e-f659-4bd3-c5cc-db958c20a3f2"
      },
      "source": [
        "# Python program to demonstrate in-built poly- \n",
        "# morphic functions \n",
        "\n",
        "# len() can be used for a string \n",
        "print(len(\"Texas\")) \n",
        "\n",
        "# Similarly, len() can also be used for a list \n",
        "print(len(['Hari', 'Mohan', 'Sital', \"Sheela\"])) "
      ],
      "execution_count": null,
      "outputs": [
        {
          "output_type": "stream",
          "text": [
            "5\n",
            "4\n"
          ],
          "name": "stdout"
        }
      ]
    },
    {
      "cell_type": "markdown",
      "metadata": {
        "id": "WlKPF4YIvGRY"
      },
      "source": [
        "**Exercise: \n",
        "1. Write a add function to sum up two or three numbers using the concept of polymorphism.\n",
        "\n",
        "2. Write a oop program in python to showcase the concept of polymorphism."
      ]
    }
  ]
}