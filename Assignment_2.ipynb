{
  "nbformat": 4,
  "nbformat_minor": 0,
  "metadata": {
    "colab": {
      "provenance": []
    },
    "kernelspec": {
      "name": "python3",
      "display_name": "Python 3"
    }
  },
  "cells": [
    {
      "cell_type": "markdown",
      "metadata": {
        "id": "inOotqCRzdot"
      },
      "source": [
        "1. Write a function that returns the maximum of two numbers.\n",
        "\n",
        "2. Write a function for checking the speed of drivers. This function should have one parameter: speed.\n",
        " - If speed is less than 70, it should print “Ok”.\n",
        " - Otherwise, for every 5km above the speed limit (70), it should give the driver one demerit point and print the total number of demerit points. For example, if the speed is 80, it should print: “Points: 2”.\n",
        " - If the driver gets more than 12 points, the function should print: “License suspended”\n",
        "\n",
        "3. Define a function that can receive two integral numbers in string form and compute their arithmeatic operation and then print it in console.\n",
        "\n",
        "4. Define a function that can accept two strings as input and concatenate them and then print it in console.\n",
        "\n",
        "5. Write a program to compute the frequency of the words from the input. The output should output after sorting the key alphanumerically. \n",
        "\n",
        "6. Write a program that accepts a sentence and calculate the number of upper case letters and lower case letters.\n",
        "\n",
        "7. Write a program that accepts a sentence and calculate the number of letters and digits.\n",
        "\n",
        "8. Write a program which will find all such numbers which are divisible by 7 but are not a multiple of 4, between 1000 and 5000 (both included).\n",
        "\n",
        "9. Write a program which can compute the factorial of a given numbers using recursion.\n",
        "\n",
        "10. Write a program which accepts a sequence of comma-separated numbers from console and generate a list and a tuple which contains every number.\n",
        "\n",
        "11. Please write a program using list comprehension to print the Fibonacci Sequence in comma separated form with a given n input by console.\n",
        "\n",
        "12. Please write a program to shuffle and print the list [3,6,7,8].\n",
        "Hints: Use shuffle() function to shuffle a list.\n",
        "\n",
        "13. Please write a program to generate all sentences where subject is in [\"I\", \"You\"] and verb is in [\"Play\", \"Love\"] and the object is in [\"Hockey\",\"Football\"].\n",
        "\n",
        "14. Please write a program which count and print the numbers of each character in a string input by console.\n",
        "\n",
        "Example:\n",
        "\tIf the following string is given as input to the program:\n",
        "\n",
        "\tabcdefgabc\n",
        "\n",
        "\tThen, the output of the program should be:\n",
        "\n",
        "\ta,2\n",
        "\tc,2\n",
        "\tb,2\n",
        "\te,1\n",
        "\td,1\n",
        "\tg,1\n",
        "\tf,1\n",
        "\n",
        "15. Please write a program which accepts a string from console and print it in reverse order.\n",
        "\n",
        "16. Please write a program which prints all permutations of [1,2,3]\n",
        "\n",
        "17. Write a function called show_stars(rows). User will input the number of rows required, for example if rows = 5, then print following\n",
        "\n",
        "Example:\n",
        "\n",
        "\t*\n",
        "\t**\n",
        "\t***\n",
        "\t****\n",
        "\t*****"
      ]
    },
    {
      "cell_type": "code",
      "metadata": {
        "id": "0TZmbppMz3gn"
      },
      "source": [],
      "execution_count": null,
      "outputs": []
    },
    {
      "cell_type": "markdown",
      "metadata": {
        "id": "09_oEh9Re-1Q"
      },
      "source": [
        "<h1><b>Assignment</b>\n",
        "\n"
      ]
    },
    {
      "cell_type": "markdown",
      "metadata": {
        "id": "oOuQkbWpfXja"
      },
      "source": [
        "Question 1: Return a count of alphabet from unser input sentence in sorted order.\n",
        "\n",
        "- User Input -> Variable (dtype = string)\n",
        "- Use a loop for each character in a given string\n",
        "  - count the presence of each character\n",
        "  - exclude duplicate\n",
        "    - prepare a list of charachter which already exists in count\n",
        "    - Ignore the character if it already exists in the list\n",
        "  \n",
        "  - sort the list (dictionary)\n",
        "    - key: value\n",
        "    a: 2\n",
        "    b : 3\n",
        "\n",
        "  - [a, b, c]\n",
        "  - [2, 3, 0]\n",
        "\n",
        "duplicate()\n",
        "\n",
        "Return a list\n",
        "\n",
        "Print the returned value"
      ]
    },
    {
      "cell_type": "code",
      "metadata": {
        "id": "Y7vrOYnifVRm"
      },
      "source": [],
      "execution_count": null,
      "outputs": []
    }
  ]
}